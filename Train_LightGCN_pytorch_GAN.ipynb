{
  "cells": [
    {
      "cell_type": "code",
      "execution_count": null,
      "metadata": {
        "colab": {
          "base_uri": "https://localhost:8080/"
        },
        "id": "i_NRlSL9u_0G",
        "outputId": "50397547-5d93-4bb8-f543-88908a2e98eb"
      },
      "outputs": [
        {
          "name": "stdout",
          "output_type": "stream",
          "text": [
            "Mounted at /content/drive\n"
          ]
        }
      ],
      "source": [
        "from google.colab import drive\n",
        "drive.mount('/content/drive')"
      ]
    },
    {
      "cell_type": "code",
      "execution_count": null,
      "metadata": {
        "colab": {
          "base_uri": "https://localhost:8080/"
        },
        "id": "B9EmDUdyA1nm",
        "outputId": "cd19c6c4-728a-4db2-bd3b-7ad0ba671815"
      },
      "outputs": [
        {
          "name": "stdout",
          "output_type": "stream",
          "text": [
            "Collecting tensorboardX\n",
            "  Downloading tensorboardX-2.6.2-py2.py3-none-any.whl (101 kB)\n",
            "\u001b[?25l     \u001b[90m━━━━━━━━━━━━━━━━━━━━━━━━━━━━━━━━━━━━━━━━\u001b[0m \u001b[32m0.0/101.6 kB\u001b[0m \u001b[31m?\u001b[0m eta \u001b[36m-:--:--\u001b[0m\r\u001b[2K     \u001b[91m━━━━━━━━━━━━━━━━━━━━━━━━━━━━━━━━\u001b[0m\u001b[90m╺\u001b[0m\u001b[90m━━━━━━━\u001b[0m \u001b[32m81.9/101.6 kB\u001b[0m \u001b[31m2.7 MB/s\u001b[0m eta \u001b[36m0:00:01\u001b[0m\r\u001b[2K     \u001b[90m━━━━━━━━━━━━━━━━━━━━━━━━━━━━━━━━━━━━━━━\u001b[0m \u001b[32m101.6/101.6 kB\u001b[0m \u001b[31m2.4 MB/s\u001b[0m eta \u001b[36m0:00:00\u001b[0m\n",
            "\u001b[?25hRequirement already satisfied: numpy in /usr/local/lib/python3.10/dist-packages (from tensorboardX) (1.23.5)\n",
            "Requirement already satisfied: packaging in /usr/local/lib/python3.10/dist-packages (from tensorboardX) (23.1)\n",
            "Requirement already satisfied: protobuf in /usr/local/lib/python3.10/dist-packages (from tensorboardX) (3.20.3)\n",
            "Installing collected packages: tensorboardX\n",
            "Successfully installed tensorboardX-2.6.2\n"
          ]
        }
      ],
      "source": [
        "pip install tensorboardX"
      ]
    },
    {
      "cell_type": "markdown",
      "metadata": {
        "id": "yCEiv95iVxb5"
      },
      "source": [
        "### Train LightGCN model"
      ]
    },
    {
      "cell_type": "code",
      "execution_count": null,
      "metadata": {
        "colab": {
          "base_uri": "https://localhost:8080/"
        },
        "id": "ne8tZqFYWd9I",
        "outputId": "192ce151-5134-4182-8d01-899ab19b6120"
      },
      "outputs": [
        {
          "name": "stdout",
          "output_type": "stream",
          "text": [
            "/content/drive/MyDrive/github/LightGCN_PyTorch/code\n"
          ]
        }
      ],
      "source": [
        "%cd /content/drive/MyDrive/github/LightGCN_PyTorch/code\n"
      ]
    },
    {
      "cell_type": "code",
      "execution_count": null,
      "metadata": {
        "colab": {
          "base_uri": "https://localhost:8080/"
        },
        "id": "IuPeqZKW_yOi",
        "outputId": "d9a7c0e1-b259-4c5e-edd1-a2f664bb6903"
      },
      "outputs": [
        {
          "name": "stdout",
          "output_type": "stream",
          "text": [
            "\u001b[0;30;43mCpp extension not loaded\u001b[0m\n",
            ">>SEED: 2020\n",
            "\u001b[0;30;43mloading [../data/yelp2018]\u001b[0m\n",
            "1237259 interactions for training\n",
            "324147 interactions for testing\n",
            "yelp2018 Sparsity : 0.0012958757851778647\n",
            "yelp2018 is ready to go\n",
            "===========config================\n",
            "{'A_n_fold': 100,\n",
            " 'A_split': False,\n",
            " 'bigdata': False,\n",
            " 'bpr_batch_size': 2048,\n",
            " 'decay': 0.0001,\n",
            " 'dropout': 0,\n",
            " 'keep_prob': 0.6,\n",
            " 'latent_dim_rec': 64,\n",
            " 'lightGCN_n_layers': 3,\n",
            " 'lr': 0.001,\n",
            " 'multicore': 0,\n",
            " 'pretrain': 0,\n",
            " 'test_u_batch_size': 100}\n",
            "cores for test: 6\n",
            "comment: lgn\n",
            "tensorboard: 1\n",
            "LOAD: 0\n",
            "Weight path: ./checkpoints\n",
            "Test Topks: [20]\n",
            "using bpr loss\n",
            "===========end===================\n",
            "\u001b[0;30;43muse NORMAL distribution initilizer\u001b[0m\n",
            "loading adjacency matrix\n",
            "successfully loaded...\n",
            "don't split the matrix\n",
            "lgn is already to go(dropout:0)\n",
            "load and save to /content/drive/MyDrive/github/LightGCN_PyTorch/code/checkpoints/lgn-yelp2018-3-64.pth.tar\n",
            "\u001b[0;30;43m[TEST]\u001b[0m\n",
            "{'precision': array([0.00027788]), 'recall': array([0.00052693]), 'ndcg': array([0.00044859])}\n",
            "EPOCH[1/500] loss0.400-|Sample:16.31|\n",
            "EPOCH[2/500] loss0.162-|Sample:16.51|\n",
            "EPOCH[3/500] loss0.147-|Sample:15.87|\n",
            "EPOCH[4/500] loss0.138-|Sample:16.27|\n",
            "EPOCH[5/500] loss0.131-|Sample:15.92|\n",
            "EPOCH[6/500] loss0.123-|Sample:16.23|\n",
            "EPOCH[7/500] loss0.116-|Sample:15.90|\n",
            "EPOCH[8/500] loss0.111-|Sample:16.15|\n",
            "EPOCH[9/500] loss0.106-|Sample:16.17|\n",
            "EPOCH[10/500] loss0.103-|Sample:16.30|\n",
            "\u001b[0;30;43m[TEST]\u001b[0m\n",
            "{'precision': array([0.01831818]), 'recall': array([0.04045762]), 'ndcg': array([0.03232129])}\n",
            "EPOCH[11/500] loss0.100-|Sample:16.14|\n",
            "EPOCH[12/500] loss0.096-|Sample:16.26|\n",
            "EPOCH[13/500] loss0.094-|Sample:15.95|\n",
            "EPOCH[14/500] loss0.092-|Sample:16.30|\n",
            "EPOCH[15/500] loss0.090-|Sample:15.88|\n",
            "EPOCH[16/500] loss0.087-|Sample:16.04|\n",
            "EPOCH[17/500] loss0.085-|Sample:15.92|\n",
            "EPOCH[18/500] loss0.083-|Sample:16.08|\n",
            "EPOCH[19/500] loss0.081-|Sample:15.93|\n",
            "EPOCH[20/500] loss0.079-|Sample:15.89|\n",
            "\u001b[0;30;43m[TEST]\u001b[0m\n",
            "{'precision': array([0.02002337]), 'recall': array([0.04427176]), 'ndcg': array([0.03550175])}\n",
            "EPOCH[21/500] loss0.078-|Sample:15.97|\n",
            "EPOCH[22/500] loss0.076-|Sample:16.08|\n",
            "EPOCH[23/500] loss0.074-|Sample:15.80|\n",
            "EPOCH[24/500] loss0.073-|Sample:16.28|\n",
            "EPOCH[25/500] loss0.072-|Sample:15.80|\n",
            "EPOCH[26/500] loss0.070-|Sample:15.92|\n",
            "EPOCH[27/500] loss0.070-|Sample:16.06|\n",
            "EPOCH[28/500] loss0.068-|Sample:16.08|\n",
            "EPOCH[29/500] loss0.067-|Sample:16.18|\n",
            "EPOCH[30/500] loss0.066-|Sample:15.74|\n",
            "\u001b[0;30;43m[TEST]\u001b[0m\n",
            "{'precision': array([0.02102596]), 'recall': array([0.04664742]), 'ndcg': array([0.03760802])}\n",
            "EPOCH[31/500] loss0.065-|Sample:15.86|\n",
            "EPOCH[32/500] loss0.064-|Sample:15.98|\n",
            "EPOCH[33/500] loss0.063-|Sample:15.85|\n",
            "EPOCH[34/500] loss0.062-|Sample:16.20|\n",
            "EPOCH[35/500] loss0.061-|Sample:15.73|\n",
            "EPOCH[36/500] loss0.060-|Sample:16.28|\n",
            "EPOCH[37/500] loss0.059-|Sample:15.72|\n",
            "EPOCH[38/500] loss0.059-|Sample:16.20|\n",
            "EPOCH[39/500] loss0.057-|Sample:15.76|\n",
            "EPOCH[40/500] loss0.057-|Sample:16.05|\n",
            "\u001b[0;30;43m[TEST]\u001b[0m\n",
            "{'precision': array([0.02205223]), 'recall': array([0.0490835]), 'ndcg': array([0.03949515])}\n",
            "EPOCH[41/500] loss0.056-|Sample:15.89|\n",
            "EPOCH[42/500] loss0.055-|Sample:15.89|\n",
            "EPOCH[43/500] loss0.054-|Sample:15.72|\n",
            "EPOCH[44/500] loss0.054-|Sample:16.13|\n",
            "EPOCH[45/500] loss0.053-|Sample:15.99|\n",
            "EPOCH[46/500] loss0.053-|Sample:15.77|\n",
            "EPOCH[47/500] loss0.052-|Sample:15.96|\n",
            "EPOCH[48/500] loss0.051-|Sample:15.92|\n",
            "EPOCH[49/500] loss0.051-|Sample:16.08|\n",
            "EPOCH[50/500] loss0.050-|Sample:15.89|\n",
            "\u001b[0;30;43m[TEST]\u001b[0m\n",
            "{'precision': array([0.02278641]), 'recall': array([0.05100451]), 'ndcg': array([0.04095051])}\n",
            "EPOCH[51/500] loss0.050-|Sample:15.86|\n",
            "EPOCH[52/500] loss0.049-|Sample:16.15|\n",
            "EPOCH[53/500] loss0.049-|Sample:16.13|\n",
            "EPOCH[54/500] loss0.048-|Sample:15.96|\n",
            "EPOCH[55/500] loss0.048-|Sample:16.10|\n",
            "EPOCH[56/500] loss0.046-|Sample:16.06|\n",
            "EPOCH[57/500] loss0.046-|Sample:15.97|\n",
            "EPOCH[58/500] loss0.046-|Sample:16.09|\n",
            "EPOCH[59/500] loss0.045-|Sample:15.98|\n",
            "EPOCH[60/500] loss0.045-|Sample:15.94|\n",
            "\u001b[0;30;43m[TEST]\u001b[0m\n",
            "{'precision': array([0.02357269]), 'recall': array([0.05269359]), 'ndcg': array([0.0424328])}\n",
            "EPOCH[61/500] loss0.044-|Sample:16.23|\n",
            "EPOCH[62/500] loss0.044-|Sample:15.84|\n",
            "EPOCH[63/500] loss0.043-|Sample:16.01|\n",
            "EPOCH[64/500] loss0.043-|Sample:16.36|\n",
            "EPOCH[65/500] loss0.043-|Sample:15.83|\n",
            "EPOCH[66/500] loss0.042-|Sample:16.16|\n",
            "EPOCH[67/500] loss0.042-|Sample:15.87|\n",
            "EPOCH[68/500] loss0.041-|Sample:16.26|\n",
            "EPOCH[69/500] loss0.041-|Sample:15.78|\n",
            "EPOCH[70/500] loss0.041-|Sample:15.94|\n",
            "\u001b[0;30;43m[TEST]\u001b[0m\n",
            "{'precision': array([0.02413635]), 'recall': array([0.05413176]), 'ndcg': array([0.04356368])}\n",
            "EPOCH[71/500] loss0.040-|Sample:16.21|\n",
            "EPOCH[72/500] loss0.040-|Sample:15.94|\n",
            "EPOCH[73/500] loss0.040-|Sample:16.13|\n",
            "EPOCH[74/500] loss0.039-|Sample:15.86|\n",
            "EPOCH[75/500] loss0.039-|Sample:15.91|\n",
            "EPOCH[76/500] loss0.039-|Sample:16.12|\n",
            "EPOCH[77/500] loss0.039-|Sample:16.02|\n",
            "EPOCH[78/500] loss0.038-|Sample:16.34|\n",
            "EPOCH[79/500] loss0.038-|Sample:15.82|\n",
            "EPOCH[80/500] loss0.037-|Sample:16.38|\n",
            "\u001b[0;30;43m[TEST]\u001b[0m\n",
            "{'precision': array([0.02477264]), 'recall': array([0.05576558]), 'ndcg': array([0.04492723])}\n",
            "EPOCH[81/500] loss0.037-|Sample:16.14|\n",
            "EPOCH[82/500] loss0.036-|Sample:15.90|\n",
            "EPOCH[83/500] loss0.037-|Sample:16.02|\n",
            "EPOCH[84/500] loss0.036-|Sample:15.99|\n",
            "EPOCH[85/500] loss0.036-|Sample:16.12|\n",
            "EPOCH[86/500] loss0.036-|Sample:16.05|\n",
            "EPOCH[87/500] loss0.036-|Sample:16.07|\n",
            "EPOCH[88/500] loss0.035-|Sample:15.95|\n",
            "EPOCH[89/500] loss0.035-|Sample:16.06|\n",
            "EPOCH[90/500] loss0.035-|Sample:16.22|\n",
            "\u001b[0;30;43m[TEST]\u001b[0m\n",
            "{'precision': array([0.02499053]), 'recall': array([0.05613972]), 'ndcg': array([0.04546331])}\n",
            "EPOCH[91/500] loss0.035-|Sample:16.04|\n",
            "EPOCH[92/500] loss0.034-|Sample:15.82|\n",
            "EPOCH[93/500] loss0.034-|Sample:16.00|\n",
            "EPOCH[94/500] loss0.034-|Sample:16.15|\n",
            "EPOCH[95/500] loss0.034-|Sample:16.02|\n",
            "EPOCH[96/500] loss0.033-|Sample:15.98|\n",
            "EPOCH[97/500] loss0.033-|Sample:16.04|\n",
            "EPOCH[98/500] loss0.033-|Sample:15.80|\n",
            "EPOCH[99/500] loss0.033-|Sample:15.95|\n",
            "EPOCH[100/500] loss0.032-|Sample:16.19|\n",
            "\u001b[0;30;43m[TEST]\u001b[0m\n",
            "{'precision': array([0.02527946]), 'recall': array([0.05676985]), 'ndcg': array([0.04615199])}\n",
            "EPOCH[101/500] loss0.032-|Sample:16.07|\n",
            "EPOCH[102/500] loss0.032-|Sample:16.11|\n",
            "EPOCH[103/500] loss0.032-|Sample:16.33|\n",
            "EPOCH[104/500] loss0.032-|Sample:15.82|\n",
            "EPOCH[105/500] loss0.031-|Sample:16.37|\n",
            "EPOCH[106/500] loss0.031-|Sample:15.91|\n",
            "EPOCH[107/500] loss0.031-|Sample:16.05|\n",
            "EPOCH[108/500] loss0.031-|Sample:16.03|\n",
            "EPOCH[109/500] loss0.030-|Sample:16.32|\n",
            "EPOCH[110/500] loss0.030-|Sample:15.81|\n",
            "\u001b[0;30;43m[TEST]\u001b[0m\n",
            "{'precision': array([0.02579102]), 'recall': array([0.05804325]), 'ndcg': array([0.04708069])}\n",
            "EPOCH[111/500] loss0.030-|Sample:16.24|\n",
            "EPOCH[112/500] loss0.030-|Sample:15.94|\n",
            "EPOCH[113/500] loss0.030-|Sample:16.37|\n",
            "EPOCH[114/500] loss0.030-|Sample:15.91|\n",
            "EPOCH[115/500] loss0.029-|Sample:16.31|\n",
            "EPOCH[116/500] loss0.030-|Sample:16.10|\n",
            "EPOCH[117/500] loss0.030-|Sample:16.04|\n",
            "EPOCH[118/500] loss0.029-|Sample:16.06|\n",
            "EPOCH[119/500] loss0.029-|Sample:16.10|\n",
            "EPOCH[120/500] loss0.029-|Sample:16.17|\n",
            "\u001b[0;30;43m[TEST]\u001b[0m\n",
            "{'precision': array([0.02604364]), 'recall': array([0.05850587]), 'ndcg': array([0.04753564])}\n",
            "EPOCH[121/500] loss0.029-|Sample:16.07|\n",
            "EPOCH[122/500] loss0.028-|Sample:16.03|\n",
            "EPOCH[123/500] loss0.028-|Sample:15.99|\n",
            "EPOCH[124/500] loss0.028-|Sample:16.36|\n",
            "EPOCH[125/500] loss0.028-|Sample:15.88|\n",
            "EPOCH[126/500] loss0.028-|Sample:16.18|\n",
            "EPOCH[127/500] loss0.028-|Sample:15.84|\n",
            "EPOCH[128/500] loss0.028-|Sample:16.41|\n",
            "EPOCH[129/500] loss0.028-|Sample:15.92|\n",
            "EPOCH[130/500] loss0.028-|Sample:15.98|\n",
            "\u001b[0;30;43m[TEST]\u001b[0m\n",
            "{'precision': array([0.02624574]), 'recall': array([0.0589655]), 'ndcg': array([0.04786256])}\n",
            "EPOCH[131/500] loss0.028-|Sample:16.28|\n",
            "EPOCH[132/500] loss0.027-|Sample:15.88|\n",
            "EPOCH[133/500] loss0.027-|Sample:16.26|\n",
            "EPOCH[134/500] loss0.027-|Sample:15.86|\n",
            "EPOCH[135/500] loss0.027-|Sample:16.01|\n",
            "EPOCH[136/500] loss0.027-|Sample:16.15|\n",
            "EPOCH[137/500] loss0.027-|Sample:16.05|\n",
            "EPOCH[138/500] loss0.027-|Sample:16.15|\n",
            "EPOCH[139/500] loss0.027-|Sample:16.00|\n",
            "EPOCH[140/500] loss0.027-|Sample:16.09|\n",
            "\u001b[0;30;43m[TEST]\u001b[0m\n",
            "{'precision': array([0.02660099]), 'recall': array([0.05951649]), 'ndcg': array([0.04860293])}\n",
            "EPOCH[141/500] loss0.026-|Sample:16.04|\n",
            "EPOCH[142/500] loss0.026-|Sample:16.04|\n",
            "EPOCH[143/500] loss0.026-|Sample:16.13|\n",
            "EPOCH[144/500] loss0.026-|Sample:16.39|\n",
            "EPOCH[145/500] loss0.026-|Sample:15.94|\n",
            "EPOCH[146/500] loss0.026-|Sample:16.07|\n",
            "EPOCH[147/500] loss0.026-|Sample:16.49|\n",
            "EPOCH[148/500] loss0.026-|Sample:15.92|\n",
            "EPOCH[149/500] loss0.025-|Sample:16.31|\n",
            "EPOCH[150/500] loss0.026-|Sample:15.95|\n",
            "\u001b[0;30;43m[TEST]\u001b[0m\n",
            "{'precision': array([0.02656783]), 'recall': array([0.05966093]), 'ndcg': array([0.04862177])}\n",
            "EPOCH[151/500] loss0.025-|Sample:16.31|\n",
            "EPOCH[152/500] loss0.025-|Sample:15.94|\n",
            "EPOCH[153/500] loss0.025-|Sample:15.95|\n",
            "EPOCH[154/500] loss0.025-|Sample:16.41|\n",
            "EPOCH[155/500] loss0.025-|Sample:15.90|\n",
            "EPOCH[156/500] loss0.025-|Sample:16.34|\n",
            "EPOCH[157/500] loss0.025-|Sample:15.88|\n",
            "EPOCH[158/500] loss0.024-|Sample:16.41|\n",
            "EPOCH[159/500] loss0.025-|Sample:16.14|\n",
            "EPOCH[160/500] loss0.025-|Sample:16.03|\n",
            "\u001b[0;30;43m[TEST]\u001b[0m\n",
            "{'precision': array([0.0266973]), 'recall': array([0.05977621]), 'ndcg': array([0.04877573])}\n",
            "EPOCH[161/500] loss0.024-|Sample:16.01|\n",
            "EPOCH[162/500] loss0.024-|Sample:16.15|\n",
            "EPOCH[163/500] loss0.024-|Sample:16.16|\n",
            "EPOCH[164/500] loss0.025-|Sample:15.90|\n",
            "EPOCH[165/500] loss0.024-|Sample:16.04|\n",
            "EPOCH[166/500] loss0.024-|Sample:16.25|\n",
            "EPOCH[167/500] loss0.024-|Sample:15.89|\n",
            "EPOCH[168/500] loss0.024-|Sample:16.30|\n",
            "EPOCH[169/500] loss0.024-|Sample:16.16|\n",
            "EPOCH[170/500] loss0.024-|Sample:15.89|\n",
            "\u001b[0;30;43m[TEST]\u001b[0m\n",
            "{'precision': array([0.02699886]), 'recall': array([0.06066285]), 'ndcg': array([0.04925114])}\n",
            "EPOCH[171/500] loss0.024-|Sample:16.06|\n",
            "EPOCH[172/500] loss0.024-|Sample:16.35|\n",
            "EPOCH[173/500] loss0.023-|Sample:15.95|\n",
            "EPOCH[174/500] loss0.023-|Sample:16.41|\n",
            "EPOCH[175/500] loss0.023-|Sample:16.16|\n",
            "EPOCH[176/500] loss0.023-|Sample:15.98|\n",
            "EPOCH[177/500] loss0.024-|Sample:16.13|\n",
            "EPOCH[178/500] loss0.023-|Sample:16.06|\n",
            "EPOCH[179/500] loss0.023-|Sample:16.22|\n",
            "EPOCH[180/500] loss0.023-|Sample:16.25|\n",
            "\u001b[0;30;43m[TEST]\u001b[0m\n",
            "{'precision': array([0.02692623]), 'recall': array([0.06018171]), 'ndcg': array([0.04930355])}\n",
            "EPOCH[181/500] loss0.023-|Sample:15.92|\n",
            "EPOCH[182/500] loss0.023-|Sample:16.05|\n",
            "EPOCH[183/500] loss0.023-|Sample:16.12|\n",
            "EPOCH[184/500] loss0.023-|Sample:16.04|\n",
            "EPOCH[185/500] loss0.023-|Sample:16.34|\n",
            "EPOCH[186/500] loss0.023-|Sample:15.94|\n",
            "EPOCH[187/500] loss0.023-|Sample:16.11|\n",
            "EPOCH[188/500] loss0.023-|Sample:16.17|\n",
            "EPOCH[189/500] loss0.023-|Sample:16.21|\n",
            "EPOCH[190/500] loss0.023-|Sample:16.28|\n",
            "\u001b[0;30;43m[TEST]\u001b[0m\n",
            "{'precision': array([0.02694202]), 'recall': array([0.06030548]), 'ndcg': array([0.0493473])}\n",
            "EPOCH[191/500] loss0.022-|Sample:16.38|\n",
            "EPOCH[192/500] loss0.022-|Sample:16.04|\n",
            "EPOCH[193/500] loss0.022-|Sample:16.34|\n",
            "EPOCH[194/500] loss0.022-|Sample:15.93|\n",
            "EPOCH[195/500] loss0.022-|Sample:15.97|\n",
            "EPOCH[196/500] loss0.022-|Sample:16.34|\n",
            "EPOCH[197/500] loss0.023-|Sample:15.93|\n",
            "EPOCH[198/500] loss0.022-|Sample:16.31|\n",
            "EPOCH[199/500] loss0.022-|Sample:15.86|\n",
            "EPOCH[200/500] loss0.022-|Sample:16.38|\n",
            "\u001b[0;30;43m[TEST]\u001b[0m\n",
            "{'precision': array([0.02710781]), 'recall': array([0.06082101]), 'ndcg': array([0.04977457])}\n",
            "EPOCH[201/500] loss0.022-|Sample:16.06|\n",
            "EPOCH[202/500] loss0.022-|Sample:16.06|\n",
            "EPOCH[203/500] loss0.022-|Sample:16.20|\n",
            "EPOCH[204/500] loss0.022-|Sample:16.37|\n",
            "EPOCH[205/500] loss0.022-|Sample:16.02|\n",
            "EPOCH[206/500] loss0.022-|Sample:16.01|\n",
            "EPOCH[207/500] loss0.022-|Sample:16.23|\n",
            "EPOCH[208/500] loss0.022-|Sample:16.52|\n",
            "EPOCH[209/500] loss0.022-|Sample:16.11|\n",
            "EPOCH[210/500] loss0.022-|Sample:16.27|\n",
            "\u001b[0;30;43m[TEST]\u001b[0m\n",
            "{'precision': array([0.02720412]), 'recall': array([0.06099498]), 'ndcg': array([0.04983482])}\n",
            "EPOCH[211/500] loss0.022-|Sample:16.12|\n",
            "EPOCH[212/500] loss0.022-|Sample:16.07|\n",
            "EPOCH[213/500] loss0.022-|Sample:15.86|\n",
            "EPOCH[214/500] loss0.022-|Sample:16.46|\n",
            "EPOCH[215/500] loss0.021-|Sample:16.29|\n",
            "EPOCH[216/500] loss0.021-|Sample:15.93|\n",
            "EPOCH[217/500] loss0.021-|Sample:16.16|\n",
            "EPOCH[218/500] loss0.022-|Sample:16.11|\n",
            "EPOCH[219/500] loss0.021-|Sample:16.09|\n",
            "EPOCH[220/500] loss0.021-|Sample:16.07|\n",
            "\u001b[0;30;43m[TEST]\u001b[0m\n",
            "{'precision': array([0.02723254]), 'recall': array([0.06075299]), 'ndcg': array([0.04973761])}\n",
            "EPOCH[221/500] loss0.021-|Sample:15.89|\n",
            "EPOCH[222/500] loss0.021-|Sample:16.08|\n",
            "EPOCH[223/500] loss0.021-|Sample:16.42|\n",
            "EPOCH[224/500] loss0.021-|Sample:16.09|\n",
            "EPOCH[225/500] loss0.021-|Sample:16.13|\n",
            "EPOCH[226/500] loss0.021-|Sample:16.05|\n",
            "EPOCH[227/500] loss0.021-|Sample:16.13|\n",
            "EPOCH[228/500] loss0.021-|Sample:16.16|\n",
            "EPOCH[229/500] loss0.021-|Sample:16.04|\n",
            "EPOCH[230/500] loss0.021-|Sample:16.05|\n",
            "\u001b[0;30;43m[TEST]\u001b[0m\n",
            "{'precision': array([0.02729569]), 'recall': array([0.06104086]), 'ndcg': array([0.04985425])}\n",
            "EPOCH[231/500] loss0.021-|Sample:16.43|\n",
            "EPOCH[232/500] loss0.021-|Sample:15.97|\n",
            "EPOCH[233/500] loss0.021-|Sample:16.09|\n",
            "EPOCH[234/500] loss0.021-|Sample:16.57|\n",
            "EPOCH[235/500] loss0.021-|Sample:15.97|\n",
            "EPOCH[236/500] loss0.021-|Sample:16.33|\n",
            "EPOCH[237/500] loss0.021-|Sample:15.91|\n",
            "EPOCH[238/500] loss0.021-|Sample:16.42|\n",
            "EPOCH[239/500] loss0.021-|Sample:16.02|\n",
            "EPOCH[240/500] loss0.021-|Sample:16.17|\n",
            "\u001b[0;30;43m[TEST]\u001b[0m\n",
            "{'precision': array([0.02738885]), 'recall': array([0.06129593]), 'ndcg': array([0.05001269])}\n",
            "EPOCH[241/500] loss0.021-|Sample:16.36|\n",
            "EPOCH[242/500] loss0.021-|Sample:15.96|\n",
            "EPOCH[243/500] loss0.021-|Sample:16.23|\n",
            "EPOCH[244/500] loss0.021-|Sample:16.03|\n",
            "EPOCH[245/500] loss0.021-|Sample:16.05|\n",
            "EPOCH[246/500] loss0.020-|Sample:16.17|\n",
            "EPOCH[247/500] loss0.020-|Sample:16.09|\n",
            "EPOCH[248/500] loss0.020-|Sample:16.05|\n",
            "EPOCH[249/500] loss0.020-|Sample:16.17|\n",
            "EPOCH[250/500] loss0.020-|Sample:16.29|\n",
            "\u001b[0;30;43m[TEST]\u001b[0m\n",
            "{'precision': array([0.02746148]), 'recall': array([0.06123129]), 'ndcg': array([0.05015003])}\n",
            "EPOCH[251/500] loss0.020-|Sample:16.03|\n",
            "EPOCH[252/500] loss0.020-|Sample:16.12|\n",
            "EPOCH[253/500] loss0.020-|Sample:16.28|\n",
            "EPOCH[254/500] loss0.020-|Sample:16.41|\n",
            "EPOCH[255/500] loss0.020-|Sample:15.97|\n",
            "EPOCH[256/500] loss0.020-|Sample:16.17|\n",
            "EPOCH[257/500] loss0.020-|Sample:16.43|\n",
            "EPOCH[258/500] loss0.020-|Sample:15.97|\n",
            "EPOCH[259/500] loss0.020-|Sample:16.29|\n",
            "EPOCH[260/500] loss0.020-|Sample:16.08|\n",
            "\u001b[0;30;43m[TEST]\u001b[0m\n",
            "{'precision': array([0.02758621]), 'recall': array([0.0613384]), 'ndcg': array([0.0502408])}\n",
            "EPOCH[261/500] loss0.020-|Sample:16.51|\n",
            "EPOCH[262/500] loss0.020-|Sample:15.97|\n",
            "EPOCH[263/500] loss0.020-|Sample:16.12|\n",
            "EPOCH[264/500] loss0.020-|Sample:16.43|\n",
            "EPOCH[265/500] loss0.020-|Sample:15.98|\n",
            "EPOCH[266/500] loss0.020-|Sample:16.08|\n",
            "EPOCH[267/500] loss0.020-|Sample:16.19|\n",
            "EPOCH[268/500] loss0.020-|Sample:16.26|\n",
            "EPOCH[269/500] loss0.020-|Sample:16.45|\n",
            "EPOCH[270/500] loss0.020-|Sample:16.05|\n",
            "\u001b[0;30;43m[TEST]\u001b[0m\n",
            "{'precision': array([0.0273999]), 'recall': array([0.06105542]), 'ndcg': array([0.0500612])}\n",
            "EPOCH[271/500] loss0.020-|Sample:16.29|\n",
            "EPOCH[272/500] loss0.020-|Sample:15.97|\n",
            "EPOCH[273/500] loss0.020-|Sample:16.44|\n",
            "EPOCH[274/500] loss0.020-|Sample:16.25|\n",
            "EPOCH[275/500] loss0.020-|Sample:16.07|\n",
            "EPOCH[276/500] loss0.020-|Sample:16.14|\n",
            "EPOCH[277/500] loss0.020-|Sample:16.42|\n",
            "EPOCH[278/500] loss0.020-|Sample:16.00|\n",
            "EPOCH[279/500] loss0.020-|Sample:16.55|\n",
            "EPOCH[280/500] loss0.020-|Sample:16.01|\n",
            "\u001b[0;30;43m[TEST]\u001b[0m\n",
            "{'precision': array([0.02757042]), 'recall': array([0.06153962]), 'ndcg': array([0.0503358])}\n",
            "EPOCH[281/500] loss0.020-|Sample:16.39|\n",
            "EPOCH[282/500] loss0.020-|Sample:15.96|\n",
            "EPOCH[283/500] loss0.020-|Sample:16.28|\n",
            "EPOCH[284/500] loss0.020-|Sample:15.97|\n",
            "EPOCH[285/500] loss0.020-|Sample:16.08|\n",
            "EPOCH[286/500] loss0.020-|Sample:16.27|\n",
            "EPOCH[287/500] loss0.020-|Sample:16.13|\n",
            "EPOCH[288/500] loss0.020-|Sample:16.12|\n",
            "EPOCH[289/500] loss0.019-|Sample:16.25|\n",
            "EPOCH[290/500] loss0.020-|Sample:16.22|\n",
            "\u001b[0;30;43m[TEST]\u001b[0m\n",
            "{'precision': array([0.02769673]), 'recall': array([0.06164009]), 'ndcg': array([0.05068562])}\n",
            "EPOCH[291/500] loss0.019-|Sample:16.07|\n",
            "EPOCH[292/500] loss0.020-|Sample:16.15|\n",
            "EPOCH[293/500] loss0.020-|Sample:16.16|\n",
            "EPOCH[294/500] loss0.019-|Sample:16.46|\n",
            "EPOCH[295/500] loss0.020-|Sample:15.98|\n",
            "EPOCH[296/500] loss0.019-|Sample:16.07|\n",
            "EPOCH[297/500] loss0.019-|Sample:16.38|\n",
            "EPOCH[298/500] loss0.019-|Sample:15.96|\n",
            "EPOCH[299/500] loss0.020-|Sample:16.25|\n",
            "EPOCH[300/500] loss0.019-|Sample:16.01|\n",
            "\u001b[0;30;43m[TEST]\u001b[0m\n",
            "{'precision': array([0.02769199]), 'recall': array([0.0615656]), 'ndcg': array([0.05072606])}\n",
            "EPOCH[301/500] loss0.019-|Sample:16.43|\n",
            "EPOCH[302/500] loss0.020-|Sample:16.04|\n",
            "EPOCH[303/500] loss0.019-|Sample:16.13|\n",
            "EPOCH[304/500] loss0.019-|Sample:16.42|\n",
            "EPOCH[305/500] loss0.019-|Sample:15.92|\n",
            "EPOCH[306/500] loss0.019-|Sample:16.52|\n",
            "EPOCH[307/500] loss0.019-|Sample:16.07|\n",
            "EPOCH[308/500] loss0.019-|Sample:16.41|\n",
            "EPOCH[309/500] loss0.019-|Sample:16.38|\n",
            "EPOCH[310/500] loss0.019-|Sample:16.02|\n",
            "\u001b[0;30;43m[TEST]\u001b[0m\n",
            "{'precision': array([0.02780251]), 'recall': array([0.06191527]), 'ndcg': array([0.05078255])}\n",
            "EPOCH[311/500] loss0.019-|Sample:16.08|\n",
            "EPOCH[312/500] loss0.019-|Sample:16.33|\n",
            "EPOCH[313/500] loss0.019-|Sample:16.30|\n",
            "EPOCH[314/500] loss0.019-|Sample:16.14|\n",
            "EPOCH[315/500] loss0.019-|Sample:16.20|\n",
            "EPOCH[316/500] loss0.019-|Sample:16.32|\n",
            "EPOCH[317/500] loss0.019-|Sample:15.96|\n",
            "EPOCH[318/500] loss0.019-|Sample:16.50|\n",
            "EPOCH[319/500] loss0.019-|Sample:16.23|\n",
            "EPOCH[320/500] loss0.019-|Sample:16.12|\n",
            "\u001b[0;30;43m[TEST]\u001b[0m\n",
            "{'precision': array([0.02782304]), 'recall': array([0.06183307]), 'ndcg': array([0.05083171])}\n",
            "EPOCH[321/500] loss0.019-|Sample:16.05|\n",
            "EPOCH[322/500] loss0.019-|Sample:16.31|\n",
            "EPOCH[323/500] loss0.019-|Sample:15.94|\n",
            "EPOCH[324/500] loss0.019-|Sample:16.44|\n",
            "EPOCH[325/500] loss0.019-|Sample:16.21|\n",
            "EPOCH[326/500] loss0.019-|Sample:16.01|\n",
            "EPOCH[327/500] loss0.019-|Sample:16.12|\n",
            "EPOCH[328/500] loss0.019-|Sample:16.23|\n",
            "EPOCH[329/500] loss0.019-|Sample:16.10|\n",
            "EPOCH[330/500] loss0.019-|Sample:16.15|\n",
            "\u001b[0;30;43m[TEST]\u001b[0m\n",
            "{'precision': array([0.02772357]), 'recall': array([0.06175881]), 'ndcg': array([0.05085218])}\n",
            "EPOCH[331/500] loss0.019-|Sample:16.15|\n",
            "EPOCH[332/500] loss0.019-|Sample:16.17|\n",
            "EPOCH[333/500] loss0.019-|Sample:16.21|\n",
            "EPOCH[334/500] loss0.019-|Sample:16.11|\n",
            "EPOCH[335/500] loss0.019-|Sample:16.54|\n",
            "EPOCH[336/500] loss0.019-|Sample:16.07|\n",
            "EPOCH[337/500] loss0.019-|Sample:16.14|\n",
            "EPOCH[338/500] loss0.019-|Sample:16.25|\n",
            "EPOCH[339/500] loss0.019-|Sample:16.29|\n",
            "EPOCH[340/500] loss0.019-|Sample:16.30|\n",
            "\u001b[0;30;43m[TEST]\u001b[0m\n",
            "{'precision': array([0.02763357]), 'recall': array([0.06159334]), 'ndcg': array([0.05067879])}\n",
            "EPOCH[341/500] loss0.019-|Sample:16.46|\n",
            "EPOCH[342/500] loss0.019-|Sample:16.02|\n",
            "EPOCH[343/500] loss0.019-|Sample:16.39|\n",
            "EPOCH[344/500] loss0.019-|Sample:16.09|\n",
            "EPOCH[345/500] loss0.019-|Sample:16.10|\n",
            "EPOCH[346/500] loss0.019-|Sample:16.47|\n",
            "EPOCH[347/500] loss0.019-|Sample:16.00|\n",
            "EPOCH[348/500] loss0.019-|Sample:16.31|\n",
            "EPOCH[349/500] loss0.019-|Sample:16.00|\n",
            "EPOCH[350/500] loss0.019-|Sample:16.52|\n",
            "\u001b[0;30;43m[TEST]\u001b[0m\n",
            "{'precision': array([0.02773936]), 'recall': array([0.06170479]), 'ndcg': array([0.05094365])}\n",
            "EPOCH[351/500] loss0.019-|Sample:15.98|\n",
            "EPOCH[352/500] loss0.019-|Sample:16.17|\n",
            "EPOCH[353/500] loss0.019-|Sample:16.31|\n",
            "EPOCH[354/500] loss0.019-|Sample:16.53|\n",
            "EPOCH[355/500] loss0.019-|Sample:16.05|\n",
            "EPOCH[356/500] loss0.019-|Sample:16.17|\n",
            "EPOCH[357/500] loss0.019-|Sample:16.21|\n",
            "EPOCH[358/500] loss0.019-|Sample:16.44|\n",
            "EPOCH[359/500] loss0.019-|Sample:15.96|\n",
            "EPOCH[360/500] loss0.019-|Sample:16.26|\n",
            "\u001b[0;30;43m[TEST]\u001b[0m\n",
            "{'precision': array([0.02783567]), 'recall': array([0.06180333]), 'ndcg': array([0.05089028])}\n",
            "EPOCH[361/500] loss0.019-|Sample:16.20|\n",
            "EPOCH[362/500] loss0.019-|Sample:16.21|\n",
            "EPOCH[363/500] loss0.019-|Sample:15.98|\n",
            "EPOCH[364/500] loss0.019-|Sample:16.49|\n",
            "EPOCH[365/500] loss0.019-|Sample:16.39|\n",
            "EPOCH[366/500] loss0.019-|Sample:16.09|\n",
            "EPOCH[367/500] loss0.018-|Sample:16.24|\n",
            "EPOCH[368/500] loss0.019-|Sample:16.23|\n",
            "EPOCH[369/500] loss0.019-|Sample:16.16|\n",
            "EPOCH[370/500] loss0.019-|Sample:16.24|\n",
            "\u001b[0;30;43m[TEST]\u001b[0m\n",
            "{'precision': array([0.02781041]), 'recall': array([0.06192874]), 'ndcg': array([0.05094628])}\n",
            "EPOCH[371/500] loss0.019-|Sample:15.96|\n",
            "EPOCH[372/500] loss0.019-|Sample:16.15|\n",
            "EPOCH[373/500] loss0.019-|Sample:16.29|\n",
            "EPOCH[374/500] loss0.019-|Sample:16.16|\n",
            "EPOCH[375/500] loss0.019-|Sample:16.25|\n",
            "EPOCH[376/500] loss0.019-|Sample:16.22|\n",
            "EPOCH[377/500] loss0.019-|Sample:16.17|\n",
            "EPOCH[378/500] loss0.019-|Sample:16.26|\n",
            "EPOCH[379/500] loss0.018-|Sample:16.12|\n",
            "EPOCH[380/500] loss0.019-|Sample:16.13|\n",
            "\u001b[0;30;43m[TEST]\u001b[0m\n",
            "{'precision': array([0.02780093]), 'recall': array([0.06179385]), 'ndcg': array([0.05091337])}\n",
            "EPOCH[381/500] loss0.019-|Sample:16.42|\n",
            "EPOCH[382/500] loss0.019-|Sample:16.00|\n",
            "EPOCH[383/500] loss0.018-|Sample:16.10|\n",
            "EPOCH[384/500] loss0.019-|Sample:16.59|\n",
            "EPOCH[385/500] loss0.018-|Sample:15.99|\n",
            "EPOCH[386/500] loss0.018-|Sample:16.36|\n",
            "EPOCH[387/500] loss0.018-|Sample:15.95|\n",
            "EPOCH[388/500] loss0.018-|Sample:16.51|\n",
            "EPOCH[389/500] loss0.018-|Sample:15.98|\n",
            "EPOCH[390/500] loss0.018-|Sample:16.15|\n",
            "\u001b[0;30;43m[TEST]\u001b[0m\n",
            "{'precision': array([0.02775673]), 'recall': array([0.06182792]), 'ndcg': array([0.05086223])}\n",
            "EPOCH[391/500] loss0.018-|Sample:16.61|\n",
            "EPOCH[392/500] loss0.018-|Sample:16.03|\n",
            "EPOCH[393/500] loss0.018-|Sample:16.53|\n",
            "EPOCH[394/500] loss0.018-|Sample:16.02|\n",
            "EPOCH[395/500] loss0.018-|Sample:16.12|\n",
            "EPOCH[396/500] loss0.018-|Sample:16.40|\n",
            "EPOCH[397/500] loss0.018-|Sample:16.18|\n",
            "EPOCH[398/500] loss0.018-|Sample:16.26|\n",
            "EPOCH[399/500] loss0.018-|Sample:16.18|\n",
            "EPOCH[400/500] loss0.018-|Sample:16.28|\n",
            "\u001b[0;30;43m[TEST]\u001b[0m\n",
            "{'precision': array([0.02787198]), 'recall': array([0.06193364]), 'ndcg': array([0.05078895])}\n",
            "EPOCH[401/500] loss0.018-|Sample:16.26|\n",
            "EPOCH[402/500] loss0.018-|Sample:16.11|\n",
            "EPOCH[403/500] loss0.018-|Sample:16.25|\n",
            "EPOCH[404/500] loss0.018-|Sample:16.50|\n",
            "EPOCH[405/500] loss0.019-|Sample:16.05|\n",
            "EPOCH[406/500] loss0.018-|Sample:16.13|\n",
            "EPOCH[407/500] loss0.018-|Sample:16.54|\n",
            "EPOCH[408/500] loss0.018-|Sample:15.93|\n",
            "EPOCH[409/500] loss0.018-|Sample:16.40|\n",
            "EPOCH[410/500] loss0.018-|Sample:16.02|\n",
            "\u001b[0;30;43m[TEST]\u001b[0m\n",
            "{'precision': array([0.02795409]), 'recall': array([0.06212509]), 'ndcg': array([0.0509906])}\n",
            "EPOCH[411/500] loss0.018-|Sample:16.47|\n",
            "EPOCH[412/500] loss0.018-|Sample:15.98|\n",
            "EPOCH[413/500] loss0.018-|Sample:16.18|\n",
            "EPOCH[414/500] loss0.018-|Sample:16.53|\n",
            "EPOCH[415/500] loss0.018-|Sample:15.95|\n",
            "EPOCH[416/500] loss0.018-|Sample:16.42|\n",
            "EPOCH[417/500] loss0.018-|Sample:16.04|\n",
            "EPOCH[418/500] loss0.018-|Sample:16.50|\n",
            "EPOCH[419/500] loss0.018-|Sample:16.01|\n",
            "EPOCH[420/500] loss0.018-|Sample:16.32|\n",
            "\u001b[0;30;43m[TEST]\u001b[0m\n",
            "{'precision': array([0.02797777]), 'recall': array([0.06207015]), 'ndcg': array([0.05111519])}\n",
            "EPOCH[421/500] loss0.018-|Sample:16.26|\n",
            "EPOCH[422/500] loss0.018-|Sample:16.27|\n",
            "EPOCH[423/500] loss0.018-|Sample:16.07|\n",
            "EPOCH[424/500] loss0.018-|Sample:16.53|\n",
            "EPOCH[425/500] loss0.018-|Sample:16.32|\n",
            "EPOCH[426/500] loss0.018-|Sample:16.08|\n",
            "EPOCH[427/500] loss0.018-|Sample:16.24|\n",
            "EPOCH[428/500] loss0.018-|Sample:16.21|\n",
            "EPOCH[429/500] loss0.018-|Sample:16.26|\n",
            "EPOCH[430/500] loss0.018-|Sample:16.32|\n",
            "\u001b[0;30;43m[TEST]\u001b[0m\n",
            "{'precision': array([0.0279004]), 'recall': array([0.06188626]), 'ndcg': array([0.05097462])}\n",
            "EPOCH[431/500] loss0.018-|Sample:16.00|\n",
            "EPOCH[432/500] loss0.018-|Sample:16.14|\n",
            "EPOCH[433/500] loss0.018-|Sample:16.31|\n",
            "EPOCH[434/500] loss0.018-|Sample:16.29|\n",
            "EPOCH[435/500] loss0.018-|Sample:16.22|\n",
            "EPOCH[436/500] loss0.018-|Sample:16.19|\n",
            "EPOCH[437/500] loss0.018-|Sample:16.19|\n",
            "EPOCH[438/500] loss0.018-|Sample:16.23|\n",
            "EPOCH[439/500] loss0.018-|Sample:16.21|\n",
            "EPOCH[440/500] loss0.018-|Sample:16.18|\n",
            "\u001b[0;30;43m[TEST]\u001b[0m\n",
            "{'precision': array([0.0279904]), 'recall': array([0.06218003]), 'ndcg': array([0.05108485])}\n",
            "EPOCH[441/500] loss0.018-|Sample:16.21|\n",
            "EPOCH[442/500] loss0.018-|Sample:16.65|\n",
            "EPOCH[443/500] loss0.018-|Sample:16.07|\n",
            "EPOCH[444/500] loss0.018-|Sample:16.40|\n",
            "EPOCH[445/500] loss0.018-|Sample:16.02|\n",
            "EPOCH[446/500] loss0.018-|Sample:16.12|\n",
            "EPOCH[447/500] loss0.018-|Sample:16.51|\n",
            "EPOCH[448/500] loss0.018-|Sample:15.95|\n",
            "EPOCH[449/500] loss0.018-|Sample:16.54|\n",
            "EPOCH[450/500] loss0.018-|Sample:16.00|\n",
            "\u001b[0;30;43m[TEST]\u001b[0m\n",
            "{'precision': array([0.02787514]), 'recall': array([0.06181253]), 'ndcg': array([0.05086366])}\n",
            "EPOCH[451/500] loss0.018-|Sample:16.57|\n",
            "EPOCH[452/500] loss0.018-|Sample:16.03|\n",
            "EPOCH[453/500] loss0.018-|Sample:16.46|\n",
            "EPOCH[454/500] loss0.018-|Sample:16.10|\n",
            "EPOCH[455/500] loss0.018-|Sample:16.13|\n",
            "EPOCH[456/500] loss0.018-|Sample:16.52|\n",
            "EPOCH[457/500] loss0.018-|Sample:16.02|\n",
            "EPOCH[458/500] loss0.018-|Sample:16.48|\n",
            "EPOCH[459/500] loss0.018-|Sample:16.04|\n",
            "EPOCH[460/500] loss0.018-|Sample:16.63|\n",
            "\u001b[0;30;43m[TEST]\u001b[0m\n",
            "{'precision': array([0.02787672]), 'recall': array([0.06193144]), 'ndcg': array([0.05086645])}\n",
            "EPOCH[461/500] loss0.018-|Sample:16.02|\n",
            "EPOCH[462/500] loss0.018-|Sample:16.18|\n",
            "EPOCH[463/500] loss0.018-|Sample:16.31|\n",
            "EPOCH[464/500] loss0.018-|Sample:16.49|\n",
            "EPOCH[465/500] loss0.018-|Sample:15.99|\n",
            "EPOCH[466/500] loss0.018-|Sample:16.10|\n",
            "EPOCH[467/500] loss0.018-|Sample:16.34|\n",
            "EPOCH[468/500] loss0.018-|Sample:16.59|\n",
            "EPOCH[469/500] loss0.018-|Sample:16.01|\n",
            "EPOCH[470/500] loss0.018-|Sample:16.48|\n",
            "\u001b[0;30;43m[TEST]\u001b[0m\n",
            "{'precision': array([0.02805513]), 'recall': array([0.06230964]), 'ndcg': array([0.05109306])}\n",
            "EPOCH[471/500] loss0.018-|Sample:16.21|\n",
            "EPOCH[472/500] loss0.018-|Sample:16.22|\n",
            "EPOCH[473/500] loss0.018-|Sample:16.07|\n",
            "EPOCH[474/500] loss0.018-|Sample:16.54|\n",
            "EPOCH[475/500] loss0.018-|Sample:16.25|\n",
            "EPOCH[476/500] loss0.018-|Sample:16.00|\n",
            "EPOCH[477/500] loss0.018-|Sample:16.20|\n",
            "EPOCH[478/500] loss0.018-|Sample:16.20|\n",
            "EPOCH[479/500] loss0.018-|Sample:16.21|\n",
            "EPOCH[480/500] loss0.018-|Sample:16.27|\n",
            "\u001b[0;30;43m[TEST]\u001b[0m\n",
            "{'precision': array([0.02786567]), 'recall': array([0.0617689]), 'ndcg': array([0.0508998])}\n",
            "EPOCH[481/500] loss0.018-|Sample:16.07|\n",
            "EPOCH[482/500] loss0.018-|Sample:16.22|\n",
            "EPOCH[483/500] loss0.018-|Sample:16.40|\n",
            "EPOCH[484/500] loss0.018-|Sample:16.24|\n",
            "EPOCH[485/500] loss0.018-|Sample:16.27|\n",
            "EPOCH[486/500] loss0.018-|Sample:16.30|\n",
            "EPOCH[487/500] loss0.018-|Sample:16.26|\n",
            "EPOCH[488/500] loss0.018-|Sample:16.21|\n",
            "EPOCH[489/500] loss0.018-|Sample:16.29|\n",
            "EPOCH[490/500] loss0.018-|Sample:16.25|\n",
            "\u001b[0;30;43m[TEST]\u001b[0m\n",
            "{'precision': array([0.02799987]), 'recall': array([0.06209971]), 'ndcg': array([0.0511602])}\n",
            "EPOCH[491/500] loss0.018-|Sample:16.49|\n",
            "EPOCH[492/500] loss0.018-|Sample:16.06|\n",
            "EPOCH[493/500] loss0.018-|Sample:16.11|\n",
            "EPOCH[494/500] loss0.018-|Sample:16.51|\n",
            "EPOCH[495/500] loss0.018-|Sample:16.05|\n",
            "EPOCH[496/500] loss0.018-|Sample:16.38|\n",
            "EPOCH[497/500] loss0.018-|Sample:16.12|\n",
            "EPOCH[498/500] loss0.018-|Sample:16.54|\n",
            "EPOCH[499/500] loss0.018-|Sample:16.08|\n",
            "EPOCH[500/500] loss0.018-|Sample:16.22|\n"
          ]
        }
      ],
      "source": [
        "# reference codes: https://github.com/gusye1234/LightGCN-PyTorch\n",
        "%run main.py --decay=1e-4 --lr=0.001 --layer=3 --seed=2020 --dataset=\"yelp2018\" --topks=\"[20]\" --recdim=64 --epochs=500"
      ]
    },
    {
      "cell_type": "code",
      "execution_count": null,
      "metadata": {
        "id": "d4RsAlirtdvH"
      },
      "outputs": [],
      "source": [
        "# Save user and item embeddings for Gan model pretraining\n",
        "\n",
        "#np.save(user_emb_file, Recmodel.embedding_user.weight.data.cpu().numpy())\n",
        "#np.save(item_emb_file, Recmodel.embedding_item.weight.data.cpu().numpy())\n",
        "\n",
        "#user_emb_file = \"user_emb.npy\"\n",
        "#item_emb_file = \"item_emb.npy\"\n",
        "\n",
        "#world.config['user_emb'] = np.load(user_emb_file)\n",
        "#world.config['item_emb'] = np.load(item_emb_file)\n"
      ]
    },
    {
      "cell_type": "code",
      "execution_count": null,
      "metadata": {
        "id": "Ka7gg-CYwNEJ"
      },
      "outputs": [],
      "source": [
        "import numpy as np\n",
        "import os\n",
        "# Create a folder to store the embeddings\n",
        "#embedding_folder = \"embeddings\"\n",
        "#os.makedirs(embedding_folder, exist_ok=True)\n",
        "\n",
        "# Get the user and item embeddings from the trained model\n",
        "#user_embeddings = Recmodel.embedding_user.weight.data.cpu().numpy()\n",
        "#item_embeddings = Recmodel.embedding_item.weight.data.cpu().numpy()\n",
        "\n",
        "# Save the embeddings to files\n",
        "#user_emb_file = os.path.join(embedding_folder, \"user_embeddings.npy\")\n",
        "#item_emb_file = os.path.join(embedding_folder, \"item_embeddings.npy\")\n",
        "#np.save(user_emb_file, user_embeddings)\n",
        "#np.save(item_emb_file, item_embeddings)\n"
      ]
    },
    {
      "cell_type": "code",
      "execution_count": null,
      "metadata": {
        "id": "QWKjT8sURbi2"
      },
      "outputs": [],
      "source": [
        "user_embeddings = Recmodel.embedding_user.weight.data\n",
        "item_embeddings = Recmodel.embedding_item.weight.data"
      ]
    },
    {
      "cell_type": "code",
      "execution_count": null,
      "metadata": {
        "colab": {
          "base_uri": "https://localhost:8080/"
        },
        "id": "vaOfZ_phSMSP",
        "outputId": "49fed80d-0d9b-4c46-96d3-c8ab5c7f048e"
      },
      "outputs": [
        {
          "data": {
            "text/plain": [
              "torch.Size([31668, 64])"
            ]
          },
          "execution_count": 6,
          "metadata": {},
          "output_type": "execute_result"
        }
      ],
      "source": [
        "user_embeddings.shape"
      ]
    },
    {
      "cell_type": "code",
      "execution_count": null,
      "metadata": {
        "colab": {
          "base_uri": "https://localhost:8080/"
        },
        "id": "feAQ6vfsSVfS",
        "outputId": "095fd472-3187-4cd3-a365-30bdb04eb13a"
      },
      "outputs": [
        {
          "data": {
            "text/plain": [
              "torch.Size([38048, 64])"
            ]
          },
          "execution_count": 7,
          "metadata": {},
          "output_type": "execute_result"
        }
      ],
      "source": [
        "item_embeddings.shape"
      ]
    },
    {
      "cell_type": "code",
      "execution_count": null,
      "metadata": {
        "colab": {
          "background_save": true,
          "base_uri": "https://localhost:8080/"
        },
        "id": "zNQtTBK2ClWd",
        "outputId": "1e3bb59d-0b1e-461d-ef67-52bafd74b60b"
      },
      "outputs": [
        {
          "name": "stderr",
          "output_type": "stream",
          "text": [
            "ERROR:root:Internal Python error in the inspect module.\n",
            "Below is the traceback from this internal error.\n",
            "\n",
            "ERROR:root:Internal Python error in the inspect module.\n",
            "Below is the traceback from this internal error.\n",
            "\n",
            "ERROR:root:Internal Python error in the inspect module.\n",
            "Below is the traceback from this internal error.\n",
            "\n"
          ]
        },
        {
          "name": "stdout",
          "output_type": "stream",
          "text": [
            "Traceback (most recent call last):\n",
            "  File \"/usr/local/lib/python3.10/dist-packages/IPython/core/interactiveshell.py\", line 3553, in run_code\n",
            "    exec(code_obj, self.user_global_ns, self.user_ns)\n",
            "  File \"<ipython-input-8-1e35e5984140>\", line 1, in <cell line: 1>\n",
            "    Recmodel_load.eval()\n",
            "NameError: name 'Recmodel_load' is not defined\n",
            "\n",
            "During handling of the above exception, another exception occurred:\n",
            "\n",
            "Traceback (most recent call last):\n",
            "  File \"/usr/local/lib/python3.10/dist-packages/IPython/core/interactiveshell.py\", line 2099, in showtraceback\n",
            "    stb = value._render_traceback_()\n",
            "AttributeError: 'NameError' object has no attribute '_render_traceback_'\n",
            "\n",
            "During handling of the above exception, another exception occurred:\n",
            "\n",
            "Traceback (most recent call last):\n",
            "  File \"/usr/local/lib/python3.10/dist-packages/IPython/core/ultratb.py\", line 1101, in get_records\n",
            "    return _fixed_getinnerframes(etb, number_of_lines_of_context, tb_offset)\n",
            "  File \"/usr/local/lib/python3.10/dist-packages/IPython/core/ultratb.py\", line 248, in wrapped\n",
            "    return f(*args, **kwargs)\n",
            "  File \"/usr/local/lib/python3.10/dist-packages/IPython/core/ultratb.py\", line 281, in _fixed_getinnerframes\n",
            "    records = fix_frame_records_filenames(inspect.getinnerframes(etb, context))\n",
            "  File \"/usr/lib/python3.10/inspect.py\", line 1662, in getinnerframes\n",
            "    frameinfo = (tb.tb_frame,) + getframeinfo(tb, context)\n",
            "  File \"/usr/lib/python3.10/inspect.py\", line 1620, in getframeinfo\n",
            "    filename = getsourcefile(frame) or getfile(frame)\n",
            "  File \"/usr/lib/python3.10/inspect.py\", line 829, in getsourcefile\n",
            "    module = getmodule(object, filename)\n",
            "  File \"/usr/lib/python3.10/inspect.py\", line 861, in getmodule\n",
            "    file = getabsfile(object, _filename)\n",
            "  File \"/usr/lib/python3.10/inspect.py\", line 845, in getabsfile\n",
            "    return os.path.normcase(os.path.abspath(_filename))\n",
            "  File \"/usr/lib/python3.10/posixpath.py\", line 384, in abspath\n",
            "    cwd = os.getcwd()\n",
            "OSError: [Errno 107] Transport endpoint is not connected\n",
            "Traceback (most recent call last):\n",
            "  File \"/usr/local/lib/python3.10/dist-packages/IPython/core/interactiveshell.py\", line 3553, in run_code\n",
            "    exec(code_obj, self.user_global_ns, self.user_ns)\n",
            "  File \"<ipython-input-8-1e35e5984140>\", line 1, in <cell line: 1>\n",
            "    Recmodel_load.eval()\n",
            "NameError: name 'Recmodel_load' is not defined\n",
            "\n",
            "During handling of the above exception, another exception occurred:\n",
            "\n",
            "Traceback (most recent call last):\n",
            "  File \"/usr/local/lib/python3.10/dist-packages/IPython/core/interactiveshell.py\", line 2099, in showtraceback\n",
            "    stb = value._render_traceback_()\n",
            "AttributeError: 'NameError' object has no attribute '_render_traceback_'\n",
            "\n",
            "During handling of the above exception, another exception occurred:\n",
            "\n",
            "Traceback (most recent call last):\n",
            "  File \"/usr/local/lib/python3.10/dist-packages/IPython/core/interactiveshell.py\", line 3473, in run_ast_nodes\n",
            "    if (await self.run_code(code, result,  async_=asy)):\n",
            "  File \"/usr/local/lib/python3.10/dist-packages/IPython/core/interactiveshell.py\", line 3575, in run_code\n",
            "    self.showtraceback(running_compiled_code=True)\n",
            "  File \"/usr/local/lib/python3.10/dist-packages/IPython/core/interactiveshell.py\", line 2101, in showtraceback\n",
            "    stb = self.InteractiveTB.structured_traceback(etype,\n",
            "  File \"/usr/local/lib/python3.10/dist-packages/IPython/core/ultratb.py\", line 1367, in structured_traceback\n",
            "    return FormattedTB.structured_traceback(\n",
            "  File \"/usr/local/lib/python3.10/dist-packages/IPython/core/ultratb.py\", line 1267, in structured_traceback\n",
            "    return VerboseTB.structured_traceback(\n",
            "  File \"/usr/local/lib/python3.10/dist-packages/IPython/core/ultratb.py\", line 1124, in structured_traceback\n",
            "    formatted_exception = self.format_exception_as_a_whole(etype, evalue, etb, number_of_lines_of_context,\n",
            "  File \"/usr/local/lib/python3.10/dist-packages/IPython/core/ultratb.py\", line 1082, in format_exception_as_a_whole\n",
            "    last_unique, recursion_repeat = find_recursion(orig_etype, evalue, records)\n",
            "  File \"/usr/local/lib/python3.10/dist-packages/IPython/core/ultratb.py\", line 382, in find_recursion\n",
            "    return len(records), 0\n",
            "TypeError: object of type 'NoneType' has no len()\n",
            "\n",
            "During handling of the above exception, another exception occurred:\n",
            "\n",
            "Traceback (most recent call last):\n",
            "  File \"/usr/local/lib/python3.10/dist-packages/IPython/core/interactiveshell.py\", line 2099, in showtraceback\n",
            "    stb = value._render_traceback_()\n",
            "AttributeError: 'TypeError' object has no attribute '_render_traceback_'\n",
            "\n",
            "During handling of the above exception, another exception occurred:\n",
            "\n",
            "Traceback (most recent call last):\n",
            "  File \"/usr/local/lib/python3.10/dist-packages/IPython/core/ultratb.py\", line 1101, in get_records\n",
            "    return _fixed_getinnerframes(etb, number_of_lines_of_context, tb_offset)\n",
            "  File \"/usr/local/lib/python3.10/dist-packages/IPython/core/ultratb.py\", line 248, in wrapped\n",
            "    return f(*args, **kwargs)\n",
            "  File \"/usr/local/lib/python3.10/dist-packages/IPython/core/ultratb.py\", line 281, in _fixed_getinnerframes\n",
            "    records = fix_frame_records_filenames(inspect.getinnerframes(etb, context))\n",
            "  File \"/usr/lib/python3.10/inspect.py\", line 1662, in getinnerframes\n",
            "    frameinfo = (tb.tb_frame,) + getframeinfo(tb, context)\n",
            "  File \"/usr/lib/python3.10/inspect.py\", line 1620, in getframeinfo\n",
            "    filename = getsourcefile(frame) or getfile(frame)\n",
            "  File \"/usr/lib/python3.10/inspect.py\", line 829, in getsourcefile\n",
            "    module = getmodule(object, filename)\n",
            "  File \"/usr/lib/python3.10/inspect.py\", line 861, in getmodule\n",
            "    file = getabsfile(object, _filename)\n",
            "  File \"/usr/lib/python3.10/inspect.py\", line 845, in getabsfile\n",
            "    return os.path.normcase(os.path.abspath(_filename))\n",
            "  File \"/usr/lib/python3.10/posixpath.py\", line 384, in abspath\n",
            "    cwd = os.getcwd()\n",
            "OSError: [Errno 107] Transport endpoint is not connected\n",
            "Traceback (most recent call last):\n",
            "  File \"/usr/local/lib/python3.10/dist-packages/IPython/core/interactiveshell.py\", line 3553, in run_code\n",
            "    exec(code_obj, self.user_global_ns, self.user_ns)\n",
            "  File \"<ipython-input-8-1e35e5984140>\", line 1, in <cell line: 1>\n",
            "    Recmodel_load.eval()\n",
            "NameError: name 'Recmodel_load' is not defined\n",
            "\n",
            "During handling of the above exception, another exception occurred:\n",
            "\n",
            "Traceback (most recent call last):\n",
            "  File \"/usr/local/lib/python3.10/dist-packages/IPython/core/interactiveshell.py\", line 2099, in showtraceback\n",
            "    stb = value._render_traceback_()\n",
            "AttributeError: 'NameError' object has no attribute '_render_traceback_'\n",
            "\n",
            "During handling of the above exception, another exception occurred:\n",
            "\n",
            "Traceback (most recent call last):\n",
            "  File \"/usr/local/lib/python3.10/dist-packages/IPython/core/interactiveshell.py\", line 3473, in run_ast_nodes\n",
            "    if (await self.run_code(code, result,  async_=asy)):\n",
            "  File \"/usr/local/lib/python3.10/dist-packages/IPython/core/interactiveshell.py\", line 3575, in run_code\n",
            "    self.showtraceback(running_compiled_code=True)\n",
            "  File \"/usr/local/lib/python3.10/dist-packages/IPython/core/interactiveshell.py\", line 2101, in showtraceback\n",
            "    stb = self.InteractiveTB.structured_traceback(etype,\n",
            "  File \"/usr/local/lib/python3.10/dist-packages/IPython/core/ultratb.py\", line 1367, in structured_traceback\n",
            "    return FormattedTB.structured_traceback(\n",
            "  File \"/usr/local/lib/python3.10/dist-packages/IPython/core/ultratb.py\", line 1267, in structured_traceback\n",
            "    return VerboseTB.structured_traceback(\n",
            "  File \"/usr/local/lib/python3.10/dist-packages/IPython/core/ultratb.py\", line 1124, in structured_traceback\n",
            "    formatted_exception = self.format_exception_as_a_whole(etype, evalue, etb, number_of_lines_of_context,\n",
            "  File \"/usr/local/lib/python3.10/dist-packages/IPython/core/ultratb.py\", line 1082, in format_exception_as_a_whole\n",
            "    last_unique, recursion_repeat = find_recursion(orig_etype, evalue, records)\n",
            "  File \"/usr/local/lib/python3.10/dist-packages/IPython/core/ultratb.py\", line 382, in find_recursion\n",
            "    return len(records), 0\n",
            "TypeError: object of type 'NoneType' has no len()\n",
            "\n",
            "During handling of the above exception, another exception occurred:\n",
            "\n",
            "Traceback (most recent call last):\n",
            "  File \"/usr/local/lib/python3.10/dist-packages/IPython/core/interactiveshell.py\", line 2099, in showtraceback\n",
            "    stb = value._render_traceback_()\n",
            "AttributeError: 'TypeError' object has no attribute '_render_traceback_'\n",
            "\n",
            "During handling of the above exception, another exception occurred:\n",
            "\n",
            "Traceback (most recent call last):\n",
            "  File \"/usr/local/lib/python3.10/dist-packages/IPython/core/interactiveshell.py\", line 3030, in _run_cell\n",
            "    return runner(coro)\n",
            "  File \"/usr/local/lib/python3.10/dist-packages/IPython/core/async_helpers.py\", line 78, in _pseudo_sync_runner\n",
            "    coro.send(None)\n",
            "  File \"/usr/local/lib/python3.10/dist-packages/IPython/core/interactiveshell.py\", line 3257, in run_cell_async\n",
            "    has_raised = await self.run_ast_nodes(code_ast.body, cell_name,\n",
            "  File \"/usr/local/lib/python3.10/dist-packages/IPython/core/interactiveshell.py\", line 3492, in run_ast_nodes\n",
            "    self.showtraceback()\n",
            "  File \"/usr/local/lib/python3.10/dist-packages/IPython/core/interactiveshell.py\", line 2101, in showtraceback\n",
            "    stb = self.InteractiveTB.structured_traceback(etype,\n",
            "  File \"/usr/local/lib/python3.10/dist-packages/IPython/core/ultratb.py\", line 1367, in structured_traceback\n",
            "    return FormattedTB.structured_traceback(\n",
            "  File \"/usr/local/lib/python3.10/dist-packages/IPython/core/ultratb.py\", line 1267, in structured_traceback\n",
            "    return VerboseTB.structured_traceback(\n",
            "  File \"/usr/local/lib/python3.10/dist-packages/IPython/core/ultratb.py\", line 1142, in structured_traceback\n",
            "    formatted_exceptions += self.format_exception_as_a_whole(etype, evalue, etb, lines_of_context,\n",
            "  File \"/usr/local/lib/python3.10/dist-packages/IPython/core/ultratb.py\", line 1082, in format_exception_as_a_whole\n",
            "    last_unique, recursion_repeat = find_recursion(orig_etype, evalue, records)\n",
            "  File \"/usr/local/lib/python3.10/dist-packages/IPython/core/ultratb.py\", line 382, in find_recursion\n",
            "    return len(records), 0\n",
            "TypeError: object of type 'NoneType' has no len()\n",
            "\n",
            "During handling of the above exception, another exception occurred:\n",
            "\n",
            "Traceback (most recent call last):\n",
            "  File \"/usr/local/lib/python3.10/dist-packages/IPython/core/interactiveshell.py\", line 2099, in showtraceback\n",
            "    stb = value._render_traceback_()\n",
            "AttributeError: 'TypeError' object has no attribute '_render_traceback_'\n",
            "\n",
            "During handling of the above exception, another exception occurred:\n",
            "\n",
            "Traceback (most recent call last):\n",
            "  File \"/usr/local/lib/python3.10/dist-packages/IPython/core/ultratb.py\", line 1101, in get_records\n",
            "    return _fixed_getinnerframes(etb, number_of_lines_of_context, tb_offset)\n",
            "  File \"/usr/local/lib/python3.10/dist-packages/IPython/core/ultratb.py\", line 248, in wrapped\n",
            "    return f(*args, **kwargs)\n",
            "  File \"/usr/local/lib/python3.10/dist-packages/IPython/core/ultratb.py\", line 281, in _fixed_getinnerframes\n",
            "    records = fix_frame_records_filenames(inspect.getinnerframes(etb, context))\n",
            "  File \"/usr/lib/python3.10/inspect.py\", line 1662, in getinnerframes\n",
            "    frameinfo = (tb.tb_frame,) + getframeinfo(tb, context)\n",
            "  File \"/usr/lib/python3.10/inspect.py\", line 1620, in getframeinfo\n",
            "    filename = getsourcefile(frame) or getfile(frame)\n",
            "  File \"/usr/lib/python3.10/inspect.py\", line 829, in getsourcefile\n",
            "    module = getmodule(object, filename)\n",
            "  File \"/usr/lib/python3.10/inspect.py\", line 861, in getmodule\n",
            "    file = getabsfile(object, _filename)\n",
            "  File \"/usr/lib/python3.10/inspect.py\", line 845, in getabsfile\n",
            "    return os.path.normcase(os.path.abspath(_filename))\n",
            "  File \"/usr/lib/python3.10/posixpath.py\", line 384, in abspath\n",
            "    cwd = os.getcwd()\n",
            "OSError: [Errno 107] Transport endpoint is not connected\n"
          ]
        }
      ],
      "source": [
        "Recmodel_load.eval()"
      ]
    },
    {
      "cell_type": "code",
      "execution_count": null,
      "metadata": {
        "id": "XlDDp5_IZ2It"
      },
      "outputs": [],
      "source": [
        "# prediction\n",
        "users = torch.tensor([15,29,198,477])\n",
        "ratings = Recmodel.getUsersRating(users)"
      ]
    },
    {
      "cell_type": "code",
      "execution_count": null,
      "metadata": {
        "colab": {
          "base_uri": "https://localhost:8080/"
        },
        "id": "-gzGyRvJaM2y",
        "outputId": "eb2d7a39-7d38-46e6-e72f-1256dbba6625"
      },
      "outputs": [
        {
          "data": {
            "text/plain": [
              "tensor([[0.9424, 0.9998, 1.0000,  ..., 0.4628, 0.3536, 0.3386],\n",
              "        [1.0000, 0.8888, 0.9645,  ..., 0.3120, 0.1965, 0.3228],\n",
              "        [1.0000, 0.8833, 0.9627,  ..., 0.3673, 0.1872, 0.3467],\n",
              "        [0.6682, 0.7741, 0.7744,  ..., 0.5333, 0.4170, 0.4374]],\n",
              "       device='cuda:0', grad_fn=<SigmoidBackward0>)"
            ]
          },
          "execution_count": 10,
          "metadata": {},
          "output_type": "execute_result"
        }
      ],
      "source": [
        "ratings"
      ]
    },
    {
      "cell_type": "code",
      "execution_count": null,
      "metadata": {
        "id": "Q8Ue2IIeac4Z"
      },
      "outputs": [],
      "source": [
        "# recommend top 20 items\n",
        "top_ratings, top_indices = torch.topk(ratings, 20, dim=1, largest=True)"
      ]
    },
    {
      "cell_type": "code",
      "execution_count": null,
      "metadata": {
        "colab": {
          "base_uri": "https://localhost:8080/"
        },
        "id": "Eos5w5Q4agHs",
        "outputId": "d2a273b1-1063-461c-a40a-9c0ae4b6718f"
      },
      "outputs": [
        {
          "data": {
            "text/plain": [
              "tensor([[ 7270,  3410,   932,  8136,  4983,  3407,  8129,   949,     2,  4059,\n",
              "          4039,   951,   947,  4048,  3401,   948,  4984,  4044,   953,  3397],\n",
              "        [ 3245,   649,    81,    87,    11,     0,    12,    15,   783,   774,\n",
              "           710,   773,  2012,   786,  2014,  2902,   657,     8,   762,   769],\n",
              "        [  786,   710,  2014,  2902,   783,   649,   657,    12,    11,    81,\n",
              "            87,    15,     0,  3245,  2012,   774,   773,   769,  1540,   762],\n",
              "        [ 6351,  5030,  8106,  3206,  8109,   754,  8517,  5883,  9873,  7859,\n",
              "           745,  6348,  6335,  6332,  6336, 12220,  5899, 10000,  8523,  9991]],\n",
              "       device='cuda:0')"
            ]
          },
          "execution_count": 12,
          "metadata": {},
          "output_type": "execute_result"
        }
      ],
      "source": [
        "top_indices"
      ]
    },
    {
      "cell_type": "markdown",
      "metadata": {
        "id": "sPzAHvMmywuj"
      },
      "source": [
        "### Train GAN model"
      ]
    },
    {
      "cell_type": "code",
      "execution_count": null,
      "metadata": {
        "colab": {
          "background_save": true
        },
        "id": "o8vEPmdHHts-",
        "outputId": "d3ec11ff-5825-48ac-ca0c-53791b011385"
      },
      "outputs": [
        {
          "name": "stderr",
          "output_type": "stream",
          "text": [
            "ERROR:root:Internal Python error in the inspect module.\n",
            "Below is the traceback from this internal error.\n",
            "\n",
            "ERROR:root:Internal Python error in the inspect module.\n",
            "Below is the traceback from this internal error.\n",
            "\n",
            "ERROR:root:Internal Python error in the inspect module.\n",
            "Below is the traceback from this internal error.\n",
            "\n"
          ]
        },
        {
          "name": "stdout",
          "output_type": "stream",
          "text": [
            "Traceback (most recent call last):\n",
            "  File \"/usr/local/lib/python3.10/dist-packages/IPython/core/interactiveshell.py\", line 3553, in run_code\n",
            "    exec(code_obj, self.user_global_ns, self.user_ns)\n",
            "  File \"<ipython-input-12-efc5ffbf02b1>\", line 1, in <cell line: 1>\n",
            "    import tensorflow as tf\n",
            "  File \"<frozen importlib._bootstrap>\", line 1027, in _find_and_load\n",
            "  File \"<frozen importlib._bootstrap>\", line 1002, in _find_and_load_unlocked\n",
            "  File \"<frozen importlib._bootstrap>\", line 945, in _find_spec\n",
            "  File \"<frozen importlib._bootstrap_external>\", line 1439, in find_spec\n",
            "  File \"<frozen importlib._bootstrap_external>\", line 1408, in _get_spec\n",
            "  File \"<frozen importlib._bootstrap_external>\", line 1366, in _path_importer_cache\n",
            "OSError: [Errno 107] Transport endpoint is not connected\n",
            "\n",
            "During handling of the above exception, another exception occurred:\n",
            "\n",
            "Traceback (most recent call last):\n",
            "  File \"/usr/local/lib/python3.10/dist-packages/IPython/core/interactiveshell.py\", line 2099, in showtraceback\n",
            "    stb = value._render_traceback_()\n",
            "AttributeError: 'OSError' object has no attribute '_render_traceback_'\n",
            "\n",
            "During handling of the above exception, another exception occurred:\n",
            "\n",
            "Traceback (most recent call last):\n",
            "  File \"/usr/local/lib/python3.10/dist-packages/IPython/core/ultratb.py\", line 1101, in get_records\n",
            "    return _fixed_getinnerframes(etb, number_of_lines_of_context, tb_offset)\n",
            "  File \"/usr/local/lib/python3.10/dist-packages/IPython/core/ultratb.py\", line 248, in wrapped\n",
            "    return f(*args, **kwargs)\n",
            "  File \"/usr/local/lib/python3.10/dist-packages/IPython/core/ultratb.py\", line 281, in _fixed_getinnerframes\n",
            "    records = fix_frame_records_filenames(inspect.getinnerframes(etb, context))\n",
            "  File \"/usr/lib/python3.10/inspect.py\", line 1662, in getinnerframes\n",
            "    frameinfo = (tb.tb_frame,) + getframeinfo(tb, context)\n",
            "  File \"/usr/lib/python3.10/inspect.py\", line 1620, in getframeinfo\n",
            "    filename = getsourcefile(frame) or getfile(frame)\n",
            "  File \"/usr/lib/python3.10/inspect.py\", line 829, in getsourcefile\n",
            "    module = getmodule(object, filename)\n",
            "  File \"/usr/lib/python3.10/inspect.py\", line 861, in getmodule\n",
            "    file = getabsfile(object, _filename)\n",
            "  File \"/usr/lib/python3.10/inspect.py\", line 845, in getabsfile\n",
            "    return os.path.normcase(os.path.abspath(_filename))\n",
            "  File \"/usr/lib/python3.10/posixpath.py\", line 384, in abspath\n",
            "    cwd = os.getcwd()\n",
            "OSError: [Errno 107] Transport endpoint is not connected\n",
            "Traceback (most recent call last):\n",
            "  File \"/usr/local/lib/python3.10/dist-packages/IPython/core/interactiveshell.py\", line 3553, in run_code\n",
            "    exec(code_obj, self.user_global_ns, self.user_ns)\n",
            "  File \"<ipython-input-12-efc5ffbf02b1>\", line 1, in <cell line: 1>\n",
            "    import tensorflow as tf\n",
            "  File \"<frozen importlib._bootstrap>\", line 1027, in _find_and_load\n",
            "  File \"<frozen importlib._bootstrap>\", line 1002, in _find_and_load_unlocked\n",
            "  File \"<frozen importlib._bootstrap>\", line 945, in _find_spec\n",
            "  File \"<frozen importlib._bootstrap_external>\", line 1439, in find_spec\n",
            "  File \"<frozen importlib._bootstrap_external>\", line 1408, in _get_spec\n",
            "  File \"<frozen importlib._bootstrap_external>\", line 1366, in _path_importer_cache\n",
            "OSError: [Errno 107] Transport endpoint is not connected\n",
            "\n",
            "During handling of the above exception, another exception occurred:\n",
            "\n",
            "Traceback (most recent call last):\n",
            "  File \"/usr/local/lib/python3.10/dist-packages/IPython/core/interactiveshell.py\", line 2099, in showtraceback\n",
            "    stb = value._render_traceback_()\n",
            "AttributeError: 'OSError' object has no attribute '_render_traceback_'\n",
            "\n",
            "During handling of the above exception, another exception occurred:\n",
            "\n",
            "Traceback (most recent call last):\n",
            "  File \"/usr/local/lib/python3.10/dist-packages/IPython/core/interactiveshell.py\", line 3473, in run_ast_nodes\n",
            "    if (await self.run_code(code, result,  async_=asy)):\n",
            "  File \"/usr/local/lib/python3.10/dist-packages/IPython/core/interactiveshell.py\", line 3575, in run_code\n",
            "    self.showtraceback(running_compiled_code=True)\n",
            "  File \"/usr/local/lib/python3.10/dist-packages/IPython/core/interactiveshell.py\", line 2101, in showtraceback\n",
            "    stb = self.InteractiveTB.structured_traceback(etype,\n",
            "  File \"/usr/local/lib/python3.10/dist-packages/IPython/core/ultratb.py\", line 1367, in structured_traceback\n",
            "    return FormattedTB.structured_traceback(\n",
            "  File \"/usr/local/lib/python3.10/dist-packages/IPython/core/ultratb.py\", line 1267, in structured_traceback\n",
            "    return VerboseTB.structured_traceback(\n",
            "  File \"/usr/local/lib/python3.10/dist-packages/IPython/core/ultratb.py\", line 1124, in structured_traceback\n",
            "    formatted_exception = self.format_exception_as_a_whole(etype, evalue, etb, number_of_lines_of_context,\n",
            "  File \"/usr/local/lib/python3.10/dist-packages/IPython/core/ultratb.py\", line 1082, in format_exception_as_a_whole\n",
            "    last_unique, recursion_repeat = find_recursion(orig_etype, evalue, records)\n",
            "  File \"/usr/local/lib/python3.10/dist-packages/IPython/core/ultratb.py\", line 382, in find_recursion\n",
            "    return len(records), 0\n",
            "TypeError: object of type 'NoneType' has no len()\n",
            "\n",
            "During handling of the above exception, another exception occurred:\n",
            "\n",
            "Traceback (most recent call last):\n",
            "  File \"/usr/local/lib/python3.10/dist-packages/IPython/core/interactiveshell.py\", line 2099, in showtraceback\n",
            "    stb = value._render_traceback_()\n",
            "AttributeError: 'TypeError' object has no attribute '_render_traceback_'\n",
            "\n",
            "During handling of the above exception, another exception occurred:\n",
            "\n",
            "Traceback (most recent call last):\n",
            "  File \"/usr/local/lib/python3.10/dist-packages/IPython/core/ultratb.py\", line 1101, in get_records\n",
            "    return _fixed_getinnerframes(etb, number_of_lines_of_context, tb_offset)\n",
            "  File \"/usr/local/lib/python3.10/dist-packages/IPython/core/ultratb.py\", line 248, in wrapped\n",
            "    return f(*args, **kwargs)\n",
            "  File \"/usr/local/lib/python3.10/dist-packages/IPython/core/ultratb.py\", line 281, in _fixed_getinnerframes\n",
            "    records = fix_frame_records_filenames(inspect.getinnerframes(etb, context))\n",
            "  File \"/usr/lib/python3.10/inspect.py\", line 1662, in getinnerframes\n",
            "    frameinfo = (tb.tb_frame,) + getframeinfo(tb, context)\n",
            "  File \"/usr/lib/python3.10/inspect.py\", line 1620, in getframeinfo\n",
            "    filename = getsourcefile(frame) or getfile(frame)\n",
            "  File \"/usr/lib/python3.10/inspect.py\", line 829, in getsourcefile\n",
            "    module = getmodule(object, filename)\n",
            "  File \"/usr/lib/python3.10/inspect.py\", line 861, in getmodule\n",
            "    file = getabsfile(object, _filename)\n",
            "  File \"/usr/lib/python3.10/inspect.py\", line 845, in getabsfile\n",
            "    return os.path.normcase(os.path.abspath(_filename))\n",
            "  File \"/usr/lib/python3.10/posixpath.py\", line 384, in abspath\n",
            "    cwd = os.getcwd()\n",
            "OSError: [Errno 107] Transport endpoint is not connected\n",
            "Traceback (most recent call last):\n",
            "  File \"/usr/local/lib/python3.10/dist-packages/IPython/core/interactiveshell.py\", line 3553, in run_code\n",
            "    exec(code_obj, self.user_global_ns, self.user_ns)\n",
            "  File \"<ipython-input-12-efc5ffbf02b1>\", line 1, in <cell line: 1>\n",
            "    import tensorflow as tf\n",
            "  File \"<frozen importlib._bootstrap>\", line 1027, in _find_and_load\n",
            "  File \"<frozen importlib._bootstrap>\", line 1002, in _find_and_load_unlocked\n",
            "  File \"<frozen importlib._bootstrap>\", line 945, in _find_spec\n",
            "  File \"<frozen importlib._bootstrap_external>\", line 1439, in find_spec\n",
            "  File \"<frozen importlib._bootstrap_external>\", line 1408, in _get_spec\n",
            "  File \"<frozen importlib._bootstrap_external>\", line 1366, in _path_importer_cache\n",
            "OSError: [Errno 107] Transport endpoint is not connected\n",
            "\n",
            "During handling of the above exception, another exception occurred:\n",
            "\n",
            "Traceback (most recent call last):\n",
            "  File \"/usr/local/lib/python3.10/dist-packages/IPython/core/interactiveshell.py\", line 2099, in showtraceback\n",
            "    stb = value._render_traceback_()\n",
            "AttributeError: 'OSError' object has no attribute '_render_traceback_'\n",
            "\n",
            "During handling of the above exception, another exception occurred:\n",
            "\n",
            "Traceback (most recent call last):\n",
            "  File \"/usr/local/lib/python3.10/dist-packages/IPython/core/interactiveshell.py\", line 3473, in run_ast_nodes\n",
            "    if (await self.run_code(code, result,  async_=asy)):\n",
            "  File \"/usr/local/lib/python3.10/dist-packages/IPython/core/interactiveshell.py\", line 3575, in run_code\n",
            "    self.showtraceback(running_compiled_code=True)\n",
            "  File \"/usr/local/lib/python3.10/dist-packages/IPython/core/interactiveshell.py\", line 2101, in showtraceback\n",
            "    stb = self.InteractiveTB.structured_traceback(etype,\n",
            "  File \"/usr/local/lib/python3.10/dist-packages/IPython/core/ultratb.py\", line 1367, in structured_traceback\n",
            "    return FormattedTB.structured_traceback(\n",
            "  File \"/usr/local/lib/python3.10/dist-packages/IPython/core/ultratb.py\", line 1267, in structured_traceback\n",
            "    return VerboseTB.structured_traceback(\n",
            "  File \"/usr/local/lib/python3.10/dist-packages/IPython/core/ultratb.py\", line 1124, in structured_traceback\n",
            "    formatted_exception = self.format_exception_as_a_whole(etype, evalue, etb, number_of_lines_of_context,\n",
            "  File \"/usr/local/lib/python3.10/dist-packages/IPython/core/ultratb.py\", line 1082, in format_exception_as_a_whole\n",
            "    last_unique, recursion_repeat = find_recursion(orig_etype, evalue, records)\n",
            "  File \"/usr/local/lib/python3.10/dist-packages/IPython/core/ultratb.py\", line 382, in find_recursion\n",
            "    return len(records), 0\n",
            "TypeError: object of type 'NoneType' has no len()\n",
            "\n",
            "During handling of the above exception, another exception occurred:\n",
            "\n",
            "Traceback (most recent call last):\n",
            "  File \"/usr/local/lib/python3.10/dist-packages/IPython/core/interactiveshell.py\", line 2099, in showtraceback\n",
            "    stb = value._render_traceback_()\n",
            "AttributeError: 'TypeError' object has no attribute '_render_traceback_'\n",
            "\n",
            "During handling of the above exception, another exception occurred:\n",
            "\n",
            "Traceback (most recent call last):\n",
            "  File \"/usr/local/lib/python3.10/dist-packages/IPython/core/interactiveshell.py\", line 3030, in _run_cell\n",
            "    return runner(coro)\n",
            "  File \"/usr/local/lib/python3.10/dist-packages/IPython/core/async_helpers.py\", line 78, in _pseudo_sync_runner\n",
            "    coro.send(None)\n",
            "  File \"/usr/local/lib/python3.10/dist-packages/IPython/core/interactiveshell.py\", line 3257, in run_cell_async\n",
            "    has_raised = await self.run_ast_nodes(code_ast.body, cell_name,\n",
            "  File \"/usr/local/lib/python3.10/dist-packages/IPython/core/interactiveshell.py\", line 3492, in run_ast_nodes\n",
            "    self.showtraceback()\n",
            "  File \"/usr/local/lib/python3.10/dist-packages/IPython/core/interactiveshell.py\", line 2101, in showtraceback\n",
            "    stb = self.InteractiveTB.structured_traceback(etype,\n",
            "  File \"/usr/local/lib/python3.10/dist-packages/IPython/core/ultratb.py\", line 1367, in structured_traceback\n",
            "    return FormattedTB.structured_traceback(\n",
            "  File \"/usr/local/lib/python3.10/dist-packages/IPython/core/ultratb.py\", line 1267, in structured_traceback\n",
            "    return VerboseTB.structured_traceback(\n",
            "  File \"/usr/local/lib/python3.10/dist-packages/IPython/core/ultratb.py\", line 1142, in structured_traceback\n",
            "    formatted_exceptions += self.format_exception_as_a_whole(etype, evalue, etb, lines_of_context,\n",
            "  File \"/usr/local/lib/python3.10/dist-packages/IPython/core/ultratb.py\", line 1082, in format_exception_as_a_whole\n",
            "    last_unique, recursion_repeat = find_recursion(orig_etype, evalue, records)\n",
            "  File \"/usr/local/lib/python3.10/dist-packages/IPython/core/ultratb.py\", line 382, in find_recursion\n",
            "    return len(records), 0\n",
            "TypeError: object of type 'NoneType' has no len()\n",
            "\n",
            "During handling of the above exception, another exception occurred:\n",
            "\n",
            "Traceback (most recent call last):\n",
            "  File \"/usr/local/lib/python3.10/dist-packages/IPython/core/interactiveshell.py\", line 2099, in showtraceback\n",
            "    stb = value._render_traceback_()\n",
            "AttributeError: 'TypeError' object has no attribute '_render_traceback_'\n",
            "\n",
            "During handling of the above exception, another exception occurred:\n",
            "\n",
            "Traceback (most recent call last):\n",
            "  File \"/usr/local/lib/python3.10/dist-packages/IPython/core/ultratb.py\", line 1101, in get_records\n",
            "    return _fixed_getinnerframes(etb, number_of_lines_of_context, tb_offset)\n",
            "  File \"/usr/local/lib/python3.10/dist-packages/IPython/core/ultratb.py\", line 248, in wrapped\n",
            "    return f(*args, **kwargs)\n",
            "  File \"/usr/local/lib/python3.10/dist-packages/IPython/core/ultratb.py\", line 281, in _fixed_getinnerframes\n",
            "    records = fix_frame_records_filenames(inspect.getinnerframes(etb, context))\n",
            "  File \"/usr/lib/python3.10/inspect.py\", line 1662, in getinnerframes\n",
            "    frameinfo = (tb.tb_frame,) + getframeinfo(tb, context)\n",
            "  File \"/usr/lib/python3.10/inspect.py\", line 1620, in getframeinfo\n",
            "    filename = getsourcefile(frame) or getfile(frame)\n",
            "  File \"/usr/lib/python3.10/inspect.py\", line 829, in getsourcefile\n",
            "    module = getmodule(object, filename)\n",
            "  File \"/usr/lib/python3.10/inspect.py\", line 861, in getmodule\n",
            "    file = getabsfile(object, _filename)\n",
            "  File \"/usr/lib/python3.10/inspect.py\", line 845, in getabsfile\n",
            "    return os.path.normcase(os.path.abspath(_filename))\n",
            "  File \"/usr/lib/python3.10/posixpath.py\", line 384, in abspath\n",
            "    cwd = os.getcwd()\n",
            "OSError: [Errno 107] Transport endpoint is not connected\n"
          ]
        }
      ],
      "source": [
        "import tensorflow as tf\n",
        "import pandas as pd\n",
        "import numpy as np\n",
        "from sklearn.model_selection import train_test_split\n",
        "from sklearn.metrics import mean_squared_error\n",
        "import os\n",
        "import matplotlib.pyplot as plt"
      ]
    },
    {
      "cell_type": "code",
      "execution_count": null,
      "metadata": {
        "colab": {
          "base_uri": "https://localhost:8080/"
        },
        "id": "9oAqRZG3F1Se",
        "outputId": "66a0a6f9-37a9-4020-cd08-c0d3b3388403"
      },
      "outputs": [
        {
          "name": "stdout",
          "output_type": "stream",
          "text": [
            "/content/drive/MyDrive/github/LightGCN_PyTorch/code/embeddings\n"
          ]
        }
      ],
      "source": [
        "%cd /content/drive/MyDrive/github/LightGCN_PyTorch/code/embeddings"
      ]
    },
    {
      "cell_type": "code",
      "execution_count": null,
      "metadata": {
        "id": "wmJk1WkhGBrY"
      },
      "outputs": [],
      "source": [
        "\n",
        "device = tf.device('GPU' if tf.config.list_physical_devices('cuda:0') else 'CPU:0')"
      ]
    },
    {
      "cell_type": "code",
      "execution_count": null,
      "metadata": {
        "id": "aOVd6c0RxRVi"
      },
      "outputs": [],
      "source": [
        "# Load pre-trained gan model\n",
        "gan = tf.keras.models.load_model('gan.h5')\n",
        "with device:\n",
        "  gan"
      ]
    },
    {
      "cell_type": "code",
      "execution_count": null,
      "metadata": {
        "id": "pv2E0NFxMv9u"
      },
      "outputs": [],
      "source": [
        "from tensorflow.keras.layers import Input, Dense, Reshape, Flatten\n",
        "from tensorflow.keras.layers import BatchNormalization, Activation, ZeroPadding2D\n",
        "from tensorflow.keras.layers import LeakyReLU\n",
        "from tensorflow.keras.optimizers import Adam\n",
        "from tensorflow.keras.models import Sequential, Model\n",
        "\n",
        "# Define the generator\n",
        "def build_generator(latent_dim, output_shape):\n",
        "    model = Sequential()\n",
        "    model.add(Dense(128, input_dim=latent_dim))\n",
        "    model.add(LeakyReLU(alpha=0.2))\n",
        "    model.add(BatchNormalization(momentum=0.8))\n",
        "    model.add(Dense(256))\n",
        "    model.add(LeakyReLU(alpha=0.2))\n",
        "    model.add(BatchNormalization(momentum=0.8))\n",
        "    model.add(Dense(512))\n",
        "    model.add(LeakyReLU(alpha=0.2))\n",
        "    model.add(BatchNormalization(momentum=0.8))\n",
        "    model.add(Dense(output_shape, activation='tanh'))\n",
        "    model.summary()\n",
        "\n",
        "    noise = Input(shape=(latent_dim,))\n",
        "    img = model(noise)\n",
        "\n",
        "    return Model(noise, img)\n",
        "\n",
        "# Define the discriminator\n",
        "def build_discriminator(input_shape):\n",
        "    model = Sequential()\n",
        "    model.add(Dense(512, input_shape=input_shape))\n",
        "    model.add(LeakyReLU(alpha=0.2))\n",
        "    model.add(Dense(256))\n",
        "    model.add(LeakyReLU(alpha=0.2))\n",
        "    model.add(Dense(1, activation='sigmoid'))\n",
        "    model.summary()\n",
        "\n",
        "    img = Input(shape=input_shape)\n",
        "    validity = model(img)\n",
        "\n",
        "    return Model(img, validity)\n",
        "\n",
        "# Define the GAN model\n",
        "def build_gan(generator, discriminator):\n",
        "    discriminator.trainable = False\n",
        "\n",
        "    gan_input = Input(shape=(latent_dim,))\n",
        "    generated_img = generator(gan_input)\n",
        "    gan_output = discriminator(generated_img)\n",
        "\n",
        "    gan = Model(gan_input, gan_output)\n",
        "    gan.compile(loss='binary_crossentropy', optimizer=Adam(0.0002, 0.5))\n",
        "\n",
        "    return gan"
      ]
    },
    {
      "cell_type": "code",
      "execution_count": null,
      "metadata": {
        "id": "L0eG8lCGJYFw"
      },
      "outputs": [],
      "source": [
        "# hyper-parameters\n",
        "latent_dim = 64\n",
        "reg_lambda = 0.01\n",
        "epochs = 100\n",
        "batch_size = 64\n",
        "learning_rate = 0.001 #0.001"
      ]
    },
    {
      "cell_type": "code",
      "execution_count": null,
      "metadata": {
        "colab": {
          "base_uri": "https://localhost:8080/"
        },
        "id": "Qt5UezoZMxVB",
        "outputId": "dc271a4b-b9fc-4372-d7c4-fcb6653ff3e3"
      },
      "outputs": [
        {
          "name": "stdout",
          "output_type": "stream",
          "text": [
            "Model: \"sequential\"\n",
            "_________________________________________________________________\n",
            " Layer (type)                Output Shape              Param #   \n",
            "=================================================================\n",
            " dense (Dense)               (None, 128)               8320      \n",
            "                                                                 \n",
            " leaky_re_lu (LeakyReLU)     (None, 128)               0         \n",
            "                                                                 \n",
            " batch_normalization (BatchN  (None, 128)              512       \n",
            " ormalization)                                                   \n",
            "                                                                 \n",
            " dense_1 (Dense)             (None, 256)               33024     \n",
            "                                                                 \n",
            " leaky_re_lu_1 (LeakyReLU)   (None, 256)               0         \n",
            "                                                                 \n",
            " batch_normalization_1 (Batc  (None, 256)              1024      \n",
            " hNormalization)                                                 \n",
            "                                                                 \n",
            " dense_2 (Dense)             (None, 512)               131584    \n",
            "                                                                 \n",
            " leaky_re_lu_2 (LeakyReLU)   (None, 512)               0         \n",
            "                                                                 \n",
            " batch_normalization_2 (Batc  (None, 512)              2048      \n",
            " hNormalization)                                                 \n",
            "                                                                 \n",
            " dense_3 (Dense)             (None, 64)                32832     \n",
            "                                                                 \n",
            "=================================================================\n",
            "Total params: 209,344\n",
            "Trainable params: 207,552\n",
            "Non-trainable params: 1,792\n",
            "_________________________________________________________________\n",
            "Model: \"sequential_1\"\n",
            "_________________________________________________________________\n",
            " Layer (type)                Output Shape              Param #   \n",
            "=================================================================\n",
            " dense_4 (Dense)             (None, 512)               33280     \n",
            "                                                                 \n",
            " leaky_re_lu_3 (LeakyReLU)   (None, 512)               0         \n",
            "                                                                 \n",
            " dense_5 (Dense)             (None, 256)               131328    \n",
            "                                                                 \n",
            " leaky_re_lu_4 (LeakyReLU)   (None, 256)               0         \n",
            "                                                                 \n",
            " dense_6 (Dense)             (None, 1)                 257       \n",
            "                                                                 \n",
            "=================================================================\n",
            "Total params: 164,865\n",
            "Trainable params: 164,865\n",
            "Non-trainable params: 0\n",
            "_________________________________________________________________\n"
          ]
        }
      ],
      "source": [
        "# Build the generator and discriminator\n",
        "latent_dim = user_embeddings.shape[1]\n",
        "output_shape = item_embeddings.shape[1]\n",
        "generator = build_generator(latent_dim, output_shape)\n",
        "discriminator = build_discriminator(input_shape=(output_shape,))\n",
        "\n",
        "# Build the GAN model\n",
        "with device:\n",
        "  gan = build_gan(generator, discriminator)"
      ]
    },
    {
      "cell_type": "code",
      "execution_count": null,
      "metadata": {
        "colab": {
          "base_uri": "https://localhost:8080/"
        },
        "id": "xydsqXKVFtFt",
        "outputId": "dd75ba65-bd4a-4227-d8f3-10c6d550c265"
      },
      "outputs": [
        {
          "name": "stdout",
          "output_type": "stream",
          "text": [
            "313/313 [==============================] - 1s 2ms/step\n"
          ]
        }
      ],
      "source": [
        "# Generate synthetic data using the GAN model\n",
        "n_samples = 10000\n",
        "latent_dim = 64\n",
        "with device:\n",
        "  synthetic_item_embeddings = generator.predict(np.random.normal(0, 1, size=(n_samples, latent_dim)))\n",
        "  synthetic_item_embeddings = torch.from_numpy(synthetic_item_embeddings)"
      ]
    },
    {
      "cell_type": "code",
      "execution_count": null,
      "metadata": {
        "id": "FwKmt27RQt9p"
      },
      "outputs": [],
      "source": [
        "device2 = torch.device(\"cuda:0\")  # or \"cpu\" if you want to move it to the CPU\n",
        "synthetic_item_embeddings = synthetic_item_embeddings.to(device2)"
      ]
    },
    {
      "cell_type": "code",
      "execution_count": null,
      "metadata": {
        "colab": {
          "base_uri": "https://localhost:8080/"
        },
        "id": "aGIFVrcBIRd3",
        "outputId": "af3929ec-e00f-4371-bea5-0348537ba6b7"
      },
      "outputs": [
        {
          "name": "stdout",
          "output_type": "stream",
          "text": [
            "Tensor Device: cuda:0\n"
          ]
        }
      ],
      "source": [
        "print(\"Tensor Device:\", item_embeddings.device)"
      ]
    },
    {
      "cell_type": "code",
      "execution_count": null,
      "metadata": {
        "colab": {
          "base_uri": "https://localhost:8080/"
        },
        "id": "sSkWch64QJaW",
        "outputId": "73feeec4-4a8d-4d2e-ea94-38a9524a2f67"
      },
      "outputs": [
        {
          "name": "stdout",
          "output_type": "stream",
          "text": [
            "Tensor Device: cuda:0\n"
          ]
        }
      ],
      "source": [
        "print(\"Tensor Device:\", synthetic_item_embeddings.device)"
      ]
    },
    {
      "cell_type": "code",
      "execution_count": null,
      "metadata": {
        "id": "TW47oRZ_J3F7"
      },
      "outputs": [],
      "source": [
        "combined_item_embeddings = torch.cat((item_embeddings, synthetic_item_embeddings), dim=0)\n"
      ]
    },
    {
      "cell_type": "code",
      "execution_count": null,
      "metadata": {
        "colab": {
          "base_uri": "https://localhost:8080/"
        },
        "id": "A9TXZ1XPU_rK",
        "outputId": "995fbb11-2fe4-409b-c469-c8f0fdb4f724"
      },
      "outputs": [
        {
          "data": {
            "text/plain": [
              "torch.Size([48048, 64])"
            ]
          },
          "execution_count": 25,
          "metadata": {},
          "output_type": "execute_result"
        }
      ],
      "source": [
        "combined_item_embeddings.shape"
      ]
    },
    {
      "cell_type": "markdown",
      "metadata": {
        "id": "U69QWYWzaAvU"
      },
      "source": [
        "### LigthGCN Prediction by using sythetic embeddings from GAN\n"
      ]
    },
    {
      "cell_type": "code",
      "execution_count": null,
      "metadata": {
        "id": "p_cPYDzoaPb3"
      },
      "outputs": [],
      "source": [
        "users = torch.tensor([15,29,198,477])\n",
        "new_user_embeddings = Recmodel.embedding_user.weight[users.long()]\n"
      ]
    },
    {
      "cell_type": "code",
      "execution_count": null,
      "metadata": {
        "colab": {
          "base_uri": "https://localhost:8080/"
        },
        "id": "-o7nzj4QaSVB",
        "outputId": "a9b9a6b5-bd81-457e-f81b-4278edf7b152"
      },
      "outputs": [
        {
          "data": {
            "text/plain": [
              "torch.Size([4, 64])"
            ]
          },
          "execution_count": 27,
          "metadata": {},
          "output_type": "execute_result"
        }
      ],
      "source": [
        "new_user_embeddings.shape"
      ]
    },
    {
      "cell_type": "code",
      "execution_count": null,
      "metadata": {
        "id": "bGZw5OejbAqi"
      },
      "outputs": [],
      "source": [
        "# Calculate ratings for new users\n",
        "device = torch.device(\"cuda:0\")\n",
        "new_user_embeddings = new_user_embeddings.to(device)\n",
        "combined_item_embeddings = combined_item_embeddings.to(device)\n",
        "new_ratings = torch.matmul(new_user_embeddings, combined_item_embeddings.t())"
      ]
    },
    {
      "cell_type": "code",
      "execution_count": null,
      "metadata": {
        "id": "VkgVQ_WDPmJb"
      },
      "outputs": [],
      "source": [
        "# Calculate ratings for new users with sythetic items\n",
        "device = torch.device(\"cuda:0\")\n",
        "new_user_embeddings = new_user_embeddings.to(device)\n",
        "synthetic_item_embeddings = synthetic_item_embeddings.to(device)\n",
        "new_ratings_sythetic = torch.matmul(new_user_embeddings, synthetic_item_embeddings.t())"
      ]
    },
    {
      "cell_type": "code",
      "execution_count": null,
      "metadata": {
        "colab": {
          "base_uri": "https://localhost:8080/"
        },
        "id": "m_4JNfJXIs08",
        "outputId": "6eb8c67f-23fc-4f4c-fa5f-9dffe90a5426"
      },
      "outputs": [
        {
          "data": {
            "text/plain": [
              "torch.Size([4, 10000])"
            ]
          },
          "execution_count": 29,
          "metadata": {},
          "output_type": "execute_result"
        }
      ],
      "source": [
        "new_ratings_sythetic.shape"
      ]
    },
    {
      "cell_type": "code",
      "execution_count": null,
      "metadata": {
        "colab": {
          "base_uri": "https://localhost:8080/"
        },
        "id": "vr9uXc-eIwv_",
        "outputId": "8368c980-153e-43a9-8ad2-1718450e4a66"
      },
      "outputs": [
        {
          "data": {
            "text/plain": [
              "torch.Size([4, 38048])"
            ]
          },
          "execution_count": 148,
          "metadata": {},
          "output_type": "execute_result"
        }
      ],
      "source": [
        "ratings.shape"
      ]
    },
    {
      "cell_type": "code",
      "execution_count": null,
      "metadata": {
        "id": "Ma0C3KrLeHJW"
      },
      "outputs": [],
      "source": []
    },
    {
      "cell_type": "code",
      "execution_count": null,
      "metadata": {
        "id": "zbP9Il3ReHb3"
      },
      "outputs": [],
      "source": [
        "new_top_ratings, new_top_indices = torch.topk(new_ratings, 20, dim=1, largest=True)"
      ]
    },
    {
      "cell_type": "code",
      "execution_count": null,
      "metadata": {
        "id": "kCBsgfTTQTMG"
      },
      "outputs": [],
      "source": [
        "new_top_ratings, new_top_indices = torch.topk(new_ratings_sythetic, 20, dim=1, largest=True)"
      ]
    },
    {
      "cell_type": "code",
      "execution_count": null,
      "metadata": {
        "colab": {
          "base_uri": "https://localhost:8080/"
        },
        "id": "f3EKX3m8eLqV",
        "outputId": "de54e56c-8e85-4cef-cfcd-47a6b7f52bce"
      },
      "outputs": [
        {
          "data": {
            "text/plain": [
              "tensor([[5985, 4298, 7419, 4635, 2588, 8376, 2254, 1644, 6036,  689, 4552, 8957,\n",
              "         9268, 4123, 3312, 6584, 5886, 2367, 9860, 9087],\n",
              "        [7688, 8738, 5247, 4568, 3345, 4247, 2747, 2540, 6503, 5465, 2805, 1186,\n",
              "         6922, 9855,  949, 5576,  254, 3577, 2703, 4748],\n",
              "        [4568, 4247, 6503, 6922, 7688, 1186, 2540, 3345, 4285, 7312, 5247, 8071,\n",
              "         5465, 9477, 2747,  254, 7169, 2204, 7632, 7942],\n",
              "        [9429, 6025, 4942, 3250, 1065, 2191, 9499, 3301, 5795,  763, 6625, 6486,\n",
              "         2335, 2385, 4988, 1862, 3113, 7963, 9650, 6588]], device='cuda:0')"
            ]
          },
          "execution_count": 31,
          "metadata": {},
          "output_type": "execute_result"
        }
      ],
      "source": [
        "new_top_indices"
      ]
    },
    {
      "cell_type": "code",
      "execution_count": null,
      "metadata": {
        "colab": {
          "base_uri": "https://localhost:8080/"
        },
        "id": "ySbW-7z8eTNK",
        "outputId": "6760e4d4-f3b0-4e5f-fd09-8d9ee1043ea5"
      },
      "outputs": [
        {
          "data": {
            "text/plain": [
              "tensor([[ 7270,  3410,   932,  8136,  4983,  3407,  8129,   949,     2,  4059,\n",
              "          4039,   951,   947,  4048,  3401,   948,  4984,  4044,   953,  3397],\n",
              "        [ 3245,   649,    81,    87,    11,     0,    12,    15,   783,   774,\n",
              "           710,   773,  2012,   786,  2014,  2902,   657,     8,   762,   769],\n",
              "        [  786,   710,  2014,  2902,   783,   649,   657,    12,    11,    81,\n",
              "            87,    15,     0,  3245,  2012,   774,   773,   769,  1540,   762],\n",
              "        [ 6351,  5030,  8106,  3206,  8109,   754,  8517,  5883,  9873,  7859,\n",
              "           745,  6348,  6335,  6332,  6336, 12220,  5899, 10000,  8523,  9991]],\n",
              "       device='cuda:0')"
            ]
          },
          "execution_count": 32,
          "metadata": {},
          "output_type": "execute_result"
        }
      ],
      "source": [
        "top_indices"
      ]
    },
    {
      "cell_type": "markdown",
      "metadata": {
        "id": "IC45ZUhWC-ck"
      },
      "source": [
        "### Evalute Recommended Sythetic Items"
      ]
    },
    {
      "cell_type": "code",
      "execution_count": null,
      "metadata": {
        "id": "7y-CEGEIYkR2"
      },
      "outputs": [],
      "source": [
        "top_synthetic_item_embeddings = synthetic_item_embeddings[new_top_indices]"
      ]
    },
    {
      "cell_type": "code",
      "execution_count": null,
      "metadata": {
        "id": "-o8BFISkYwhT"
      },
      "outputs": [],
      "source": [
        "top_item_embeddings = item_embeddings[top_indices]"
      ]
    },
    {
      "cell_type": "code",
      "execution_count": null,
      "metadata": {
        "id": "AnLNgxiTZDlE"
      },
      "outputs": [],
      "source": [
        "# measure cosnie similartiy between sythetic items with real item for each user\n",
        "import torch.nn.functional as F\n",
        "cosine_similarity = {}\n",
        "# Calculate cosine similarity between top_item_embeddings and top_sythetic_item_embeddings\n",
        "for i in range(len(users)):\n",
        "  cosine_similarity[i] = F.cosine_similarity(top_item_embeddings[i], top_synthetic_item_embeddings[i], dim=-1)\n",
        "\n",
        "\n"
      ]
    },
    {
      "cell_type": "code",
      "execution_count": null,
      "metadata": {
        "colab": {
          "base_uri": "https://localhost:8080/"
        },
        "id": "MtQ6Dd4hZ2tm",
        "outputId": "f1b513b9-c9ac-4749-9eb5-4c4350716566"
      },
      "outputs": [
        {
          "data": {
            "text/plain": [
              "tensor([0.3034, 0.2527, 0.3630, 0.3500, 0.2799, 0.3195, 0.2672, 0.3073, 0.3708,\n",
              "        0.3883, 0.2894, 0.3607, 0.3042, 0.2429, 0.2279, 0.4176, 0.2925, 0.3798,\n",
              "        0.3569, 0.2631], device='cuda:0')"
            ]
          },
          "execution_count": 51,
          "metadata": {},
          "output_type": "execute_result"
        }
      ],
      "source": [
        "cosine_similarity"
      ]
    },
    {
      "cell_type": "code",
      "execution_count": null,
      "metadata": {
        "colab": {
          "base_uri": "https://localhost:8080/"
        },
        "id": "GG3RWOl7bAxj",
        "outputId": "580ae2bc-aa62-4de8-b08b-c92af6e85aab"
      },
      "outputs": [
        {
          "name": "stdout",
          "output_type": "stream",
          "text": [
            "Independent T-Test\n",
            "T-Statistic: [-0.7569377  -1.3764488  -1.4125736  -0.57883394 -1.035593   -0.61303836\n",
            " -0.93740636 -1.3179672  -0.85058254 -0.63808537 -1.6545395  -0.9795325\n",
            " -0.20907252 -0.7434321  -1.6170142  -1.384371   -1.3729738  -1.6094289\n",
            " -0.642996   -1.593205  ]\n",
            "P-Value: [0.4505003  0.17112389 0.1602464  0.56373453 0.3023755  0.54095596\n",
            " 0.3503429  0.18990576 0.3966148  0.52457607 0.10050694 0.32919398\n",
            " 0.83472925 0.4586041  0.10837613 0.16869175 0.17219904 0.11002523\n",
            " 0.5213951  0.11361978]\n",
            "Fail to reject the null hypothesis: No significant difference between groups.\n"
          ]
        }
      ],
      "source": [
        "import numpy as np\n",
        "from scipy.stats import ttest_ind\n",
        "\n",
        "\n",
        "\n",
        "group1 = top_item_embeddings_cpu[3]\n",
        "group2 = top_sythetic_item_embeddings_cpu[3]\n",
        "\n",
        "# Calculate the mean difference between pairs of data points\n",
        "mean_diff = np.mean(group1 - group2, axis=1)\n",
        "\n",
        "# Perform the independent t-test\n",
        "t_statistic, p_value = ttest_ind(group1, group2, axis=1, alternative='two-sided')\n",
        "\n",
        "# Print the results\n",
        "print(\"Independent T-Test\")\n",
        "print(\"T-Statistic:\", t_statistic)\n",
        "print(\"P-Value:\", p_value)\n",
        "\n",
        "# Compare p-value with significance level (e.g., 0.05)\n",
        "alpha = 0.05\n",
        "alpha_corrected = alpha / len(p_value)\n",
        "\n",
        "if any(p < alpha_corrected for p in p_value):\n",
        "    print(\"Reject the null hypothesis: Significant difference between groups.\")\n",
        "else:\n",
        "    print(\"Fail to reject the null hypothesis: No significant difference between groups.\")"
      ]
    }
  ],
  "metadata": {
    "accelerator": "GPU",
    "colab": {
      "provenance": []
    },
    "kernelspec": {
      "display_name": "Python 3",
      "name": "python3"
    },
    "language_info": {
      "name": "python"
    }
  },
  "nbformat": 4,
  "nbformat_minor": 0
}